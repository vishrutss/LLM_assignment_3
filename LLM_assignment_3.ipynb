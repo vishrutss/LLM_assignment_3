{
  "nbformat": 4,
  "nbformat_minor": 0,
  "metadata": {
    "colab": {
      "provenance": [],
      "mount_file_id": "1fI3S9G4ijszFay-S6x9iUXVMSc1qmtfS",
      "authorship_tag": "ABX9TyOn+Sm1zparX2oLcLq7tKW+",
      "include_colab_link": true
    },
    "kernelspec": {
      "name": "python3",
      "display_name": "Python 3"
    },
    "language_info": {
      "name": "python"
    }
  },
  "cells": [
    {
      "cell_type": "markdown",
      "metadata": {
        "id": "view-in-github",
        "colab_type": "text"
      },
      "source": [
        "<a href=\"https://colab.research.google.com/github/vishrutss/LLM_assignment_3/blob/main/LLM_assignment_3.ipynb\" target=\"_parent\"><img src=\"https://colab.research.google.com/assets/colab-badge.svg\" alt=\"Open In Colab\"/></a>"
      ]
    },
    {
      "cell_type": "markdown",
      "source": [
        "# **Assignment 3: Multilingual Large Language Models**\n",
        "\n",
        "## **Submitted by: Vishrut Sharma**"
      ],
      "metadata": {
        "id": "FPYStJBpoCXE"
      }
    },
    {
      "cell_type": "markdown",
      "source": [
        "# 1) **Dataset Annotation**\n",
        "## **Dataset Creation:**\n",
        "* The dataset consists of sentiment analysis data from Twitter in 8 different languages.\n",
        "\n",
        "* It was designed to support tasks like text classification, specifically sentiment classification.\n",
        "\n",
        "* The data is split into training, validation, and test sets across all included languages.\n",
        "\n",
        "## **Potential weaknesses in annotation**\n",
        "* Subjectivity: Sentiment analysis can be subjective, and different annotators might interpret the sentiment of tweets differently.\n",
        "\n",
        "* Context Dependence: Tweets often contain slang, irony, or cultural references, which can be challenging to interpret correctly without additional context.\n",
        "\n",
        "* Language Nuances: With multiple languages involved, there’s a risk of misinterpreting sentiments due to language-specific nuances and expressions.\n",
        "\n",
        "* For example: The following tweet \"Listen to #NBAwards Winner @user interview on @user\" was given a positive sentiment. I feel that this tweet has a neutral sentiment because the tweet is just asking users to listen to an interview. But because the word winner is included in the tweet the annotator might have felt giving it a positive sentiment is appropriate."
      ],
      "metadata": {
        "id": "UcM-4AjyRHZf"
      }
    },
    {
      "cell_type": "markdown",
      "source": [
        "# 2) **Language diversity**\n",
        "## **Predicted Performance (Best to Worst)**\n",
        "* English: English is likely to perform best due to its vast online presence and abundance of training data available beyond this dataset.\n",
        "\n",
        "* Spanish: Spanish also has a significant online presence and shares some cultural and linguistic roots with Portuguese, potentially benefiting from some transfer learning within the model.\n",
        "\n",
        "* French, German, Portuguese, Italian: These European languages have a decent online presence and might perform similarly. The model might leverage some similarities within these languages (French, Italian, Portuguese) for better performance.\n",
        "\n",
        "* Hindi: Hindi might perform slightly lower due to a potentially smaller online presence compared to the other languages. However, the sentiment analysis model might still perform adequately, especially for basic sentiment classification."
      ],
      "metadata": {
        "id": "99PYKXLnRMuC"
      }
    },
    {
      "cell_type": "markdown",
      "source": [
        "# 3) **Multilingual sentiment analysis**\n"
      ],
      "metadata": {
        "id": "H6oycvYydf9-"
      }
    },
    {
      "cell_type": "markdown",
      "source": [
        "# a) **Advanced prompting strategies**"
      ],
      "metadata": {
        "id": "B-FXPSs2qprR"
      }
    },
    {
      "cell_type": "code",
      "source": [
        "import json\n",
        "\n",
        "labels = [\"negative\", \"neutral\", \"positive\"]\n",
        "label_nums = [0, 1, 2]\n",
        "\n",
        "k = 25\n",
        "\n",
        "# Load train and test data\n",
        "with open(\"/content/drive/MyDrive/Colab Notebooks/test.jsonl\", \"r\") as test_file:\n",
        "    test_data = [json.loads(line) for line in test_file]\n",
        "\n",
        "exemplars = {label: [] for label in label_nums}\n",
        "ground_truth_labels = []\n",
        "\n",
        "# Populate exemplars with the first k values of each class\n",
        "for entry in test_data:\n",
        "    label = int(entry[\"label\"])\n",
        "    if label!=1 and len(exemplars[label]) < k:\n",
        "        exemplars[label].append(entry[\"text\"])\n",
        "        ground_truth_labels.append(label)\n",
        "\n",
        "ground_truth_labels.sort()\n",
        "\n",
        "index_counter = 1\n",
        "\n",
        "for label, values in exemplars.items():\n",
        "    for value in values:\n",
        "        print(f\"{index_counter}) {value}\")\n",
        "        index_counter += 1"
      ],
      "metadata": {
        "id": "0leaHPunTA0G"
      },
      "execution_count": null,
      "outputs": []
    },
    {
      "cell_type": "markdown",
      "source": [
        "## **ChatGPT**"
      ],
      "metadata": {
        "id": "vaA4-mprdKxM"
      }
    },
    {
      "cell_type": "markdown",
      "source": [
        "### **Regular prompt**\n",
        "**Prompt used**: \"Act as a sentiment analyzer. For each of the following 50 tweets analyze the sentiment. The sentiment can be either positive or negative. Mention only the sentiment of each tweet.\""
      ],
      "metadata": {
        "id": "yA39mUq0M0-_"
      }
    },
    {
      "cell_type": "code",
      "source": [
        "from sklearn.metrics import f1_score\n",
        "\n",
        "labels = {\"Negative\": 0, \"Positive\": 2}\n",
        "\n",
        "predicted_labels = []\n",
        "for word in [\"Negative\", \"Negative\", \"Negative\", \"Negative\", \"Negative\",\n",
        "             \"Negative\", \"Negative\", \"Negative\", \"Negative\", \"Negative\",\n",
        "             \"Negative\", \"Negative\", \"Negative\", \"Negative\", \"Negative\",\n",
        "             \"Negative\", \"Negative\", \"Negative\", \"Negative\", \"Negative\",\n",
        "             \"Negative\", \"Negative\", \"Negative\", \"Negative\", \"Negative\",\n",
        "             \"Negative\", \"Negative\", \"Negative\", \"Negative\", \"Positive\",\n",
        "             \"Negative\", \"Positive\", \"Positive\", \"Negative\", \"Positive\",\n",
        "             \"Positive\", \"Positive\", \"Positive\", \"Positive\", \"Positive\",\n",
        "             \"Positive\", \"Positive\", \"Positive\", \"Positive\", \"Positive\",\n",
        "             \"Positive\", \"Positive\", \"Positive\", \"Positive\", \"Positive\"]:\n",
        "    predicted_labels.append(labels[word])\n",
        "\n",
        "\n",
        "f1 = f1_score(ground_truth_labels, predicted_labels, average='weighted')\n",
        "print(\"F1 score:\",f1)"
      ],
      "metadata": {
        "colab": {
          "base_uri": "https://localhost:8080/"
        },
        "id": "sd3ZRUAdYVvV",
        "outputId": "489cd22e-76f1-4742-a4a0-dad24d244aef"
      },
      "execution_count": null,
      "outputs": [
        {
          "output_type": "stream",
          "name": "stdout",
          "text": [
            "F1 score: 0.8782467532467533\n"
          ]
        }
      ]
    },
    {
      "cell_type": "markdown",
      "source": [
        "### **Emotion prompting**\n",
        "**Prompt used**: \"Act as a sentiment analyzer. For each of the following 50 tweets analyze the sentiment. My job depends on you analyzing the sentiment accurately. The sentiment can be either positive or negative. Mention only the sentiment of each tweet.\"\n",
        "\n",
        "At first it denied and said it \"cannot fulfill the request\". I asked it why and it said that it is \"due to Open AI's policies against sentiment analysis or classification\" which was weird. I then repeated the same prompt as above along with the tweets and it immediatly responded with the sentiments. The policies must have changed pretty quickly.\n",
        "\n",
        "There was a considerable increase in performance with emotion prompting which is fascinating."
      ],
      "metadata": {
        "id": "9Pk2RdEUNC1w"
      }
    },
    {
      "cell_type": "code",
      "source": [
        "from sklearn.metrics import f1_score\n",
        "\n",
        "labels = {\"Negative\": 0, \"Positive\": 2}\n",
        "\n",
        "predicted_labels = []\n",
        "for word in [\"Negative\", \"Negative\", \"Negative\", \"Negative\", \"Negative\",\n",
        "             \"Negative\", \"Negative\", \"Negative\", \"Negative\", \"Negative\",\n",
        "             \"Negative\", \"Negative\", \"Negative\", \"Negative\", \"Negative\",\n",
        "             \"Negative\", \"Negative\", \"Negative\", \"Negative\", \"Negative\",\n",
        "             \"Negative\", \"Negative\", \"Negative\", \"Negative\", \"Negative\",\n",
        "             \"Negative\", \"Negative\", \"Positive\", \"Positive\", \"Positive\",\n",
        "             \"Positive\", \"Positive\", \"Positive\", \"Positive\", \"Positive\",\n",
        "             \"Positive\", \"Positive\", \"Positive\", \"Positive\", \"Positive\",\n",
        "             \"Positive\", \"Positive\", \"Positive\", \"Positive\", \"Positive\",\n",
        "             \"Positive\", \"Positive\", \"Positive\", \"Positive\", \"Positive\"]:\n",
        "    predicted_labels.append(labels[word])\n",
        "\n",
        "f1 = f1_score(ground_truth_labels, predicted_labels, average='weighted')\n",
        "print(\"F1 score:\",f1)"
      ],
      "metadata": {
        "colab": {
          "base_uri": "https://localhost:8080/"
        },
        "id": "XVoFMH8QLfFK",
        "outputId": "9e11168e-fee4-4c3e-aa26-7a6728a19ec6"
      },
      "execution_count": null,
      "outputs": [
        {
          "output_type": "stream",
          "name": "stdout",
          "text": [
            "F1 score: 0.9599358974358975\n"
          ]
        }
      ]
    },
    {
      "cell_type": "markdown",
      "source": [
        "### **Zero shot CoT**\n",
        "Prompt used \"Act as a sentiment analyzer. For each of the following 50 tweets analyze the sentiment. Let's think step by step. The sentiment can ONLY be either positive or negative. Mention only the sentiment of each tweet (Positive or Negative). Do not mention neutral.\"\n",
        "\n",
        "This is the best performance so far for ChatGPT with an F1 score of 0.979. Adding the sentence \"Let's think step by step\" seems to have increased performance considerably. I imagine when this sentence gets added to the prompt the model breaks up the tweet into chunks and analyzes it, as the prompt suggests, \"step by step\" and self generates a rationale which it can then use for other tweets in the test set.\n",
        "\n",
        "I also had to assert at the end not to mention neutral because on many tries it would generate neutral predictions. I did this because I wanted to see how it would perform when it was forced to not sit on the fence for some tweets. It looks like for the most part it performed very well."
      ],
      "metadata": {
        "id": "aITc7_39pfFt"
      }
    },
    {
      "cell_type": "code",
      "source": [
        "from sklearn.metrics import f1_score\n",
        "\n",
        "labels = {\"Negative\": 0, \"Positive\": 2}\n",
        "\n",
        "values = [\n",
        "    \"Negative\", \"Negative\", \"Negative\", \"Negative\", \"Negative\",\n",
        "    \"Negative\", \"Negative\", \"Negative\", \"Negative\", \"Negative\",\n",
        "    \"Negative\", \"Negative\", \"Negative\", \"Negative\", \"Negative\",\n",
        "    \"Negative\", \"Negative\", \"Negative\", \"Negative\", \"Negative\",\n",
        "    \"Negative\", \"Negative\", \"Negative\", \"Negative\", \"Negative\",\n",
        "    \"Positive\", \"Positive\", \"Positive\", \"Positive\", \"Positive\",\n",
        "    \"Positive\", \"Positive\", \"Positive\", \"Positive\", \"Positive\",\n",
        "    \"Positive\", \"Negative\", \"Positive\", \"Positive\", \"Positive\",\n",
        "    \"Positive\", \"Positive\", \"Positive\", \"Positive\", \"Positive\",\n",
        "    \"Positive\", \"Positive\", \"Positive\", \"Positive\", \"Positive\",\n",
        "]\n",
        "\n",
        "predicted_labels = [labels[value] for value in values]\n",
        "\n",
        "f1 = f1_score(ground_truth_labels, predicted_labels, average='weighted')\n",
        "print(\"F1 score:\",f1)"
      ],
      "metadata": {
        "colab": {
          "base_uri": "https://localhost:8080/"
        },
        "id": "pBf3emZJpi0q",
        "outputId": "e7abd243-2ddc-4481-c98f-4ebe9a9c9442"
      },
      "execution_count": null,
      "outputs": [
        {
          "output_type": "stream",
          "name": "stdout",
          "text": [
            "F1 score: 0.9799919967987194\n"
          ]
        }
      ]
    },
    {
      "cell_type": "markdown",
      "source": [
        "## **Gemini**"
      ],
      "metadata": {
        "id": "QQGrBT87dbtl"
      }
    },
    {
      "cell_type": "markdown",
      "source": [
        "### **Regular prompt**\n",
        "Prompt used \"Act as a sentiment analyzer. For each of the following 50 tweets analyze the sentiment. The sentiment can be either positive or negative. Mention only the sentiment of each tweet.\""
      ],
      "metadata": {
        "id": "3NYUGiECPz5N"
      }
    },
    {
      "cell_type": "code",
      "source": [
        "from sklearn.metrics import f1_score\n",
        "\n",
        "labels = {\"Negative\": 0, \"Positive\": 2}\n",
        "\n",
        "predicted_labels = []\n",
        "for word in [\"Negative\", \"Negative\", \"Negative\", \"Negative\", \"Positive\",\n",
        "             \"Negative\", \"Negative\", \"Negative\", \"Negative\", \"Negative\",\n",
        "             \"Negative\", \"Negative\", \"Negative\", \"Negative\", \"Negative\",\n",
        "             \"Negative\", \"Negative\", \"Negative\", \"Negative\", \"Negative\",\n",
        "             \"Positive\", \"Positive\", \"Positive\", \"Positive\", \"Positive\",\n",
        "             \"Positive\", \"Positive\", \"Positive\", \"Positive\", \"Positive\",\n",
        "             \"Positive\", \"Positive\", \"Positive\", \"Positive\", \"Positive\",\n",
        "             \"Positive\", \"Positive\", \"Positive\", \"Negative\", \"Negative\",\n",
        "             \"Positive\", \"Positive\", \"Positive\", \"Positive\", \"Positive\",\n",
        "             \"Positive\", \"Negative\", \"Positive\", \"Positive\", \"Positive\"]:\n",
        "    predicted_labels.append(labels[word])\n",
        "\n",
        "f1 = f1_score(ground_truth_labels, predicted_labels, average='weighted')\n",
        "print(\"F1 score:\",f1)"
      ],
      "metadata": {
        "colab": {
          "base_uri": "https://localhost:8080/"
        },
        "id": "hczsdg7TddzH",
        "outputId": "624e338d-db8b-400f-acd5-ea6d29eedfbb"
      },
      "execution_count": null,
      "outputs": [
        {
          "output_type": "stream",
          "name": "stdout",
          "text": [
            "F1 score: 0.8193496587715776\n"
          ]
        }
      ]
    },
    {
      "cell_type": "markdown",
      "source": [
        "### **Emotion prompting**\n",
        "**Prompt used**: \"Act as a sentiment analyzer. For each of the following 50 tweets analyze the sentiment. My job depends on you analyzing the sentiment accurately. The sentiment can only be either positive or negative. Mention only the sentiment of each tweet.\"\n",
        "\n",
        "Very slight increase in performance and this increase might be random chance but it is still interesting to see. The increase is also not as much as ChatGPT."
      ],
      "metadata": {
        "id": "6fOa7CK5SGgc"
      }
    },
    {
      "cell_type": "code",
      "source": [
        "from sklearn.metrics import f1_score\n",
        "\n",
        "labels = {\"Negative\": 0, \"Positive\": 2}\n",
        "\n",
        "predicted_labels = []\n",
        "for word in [\"Negative\", \"Negative\", \"Negative\", \"Negative\", \"Positive\",\n",
        "             \"Negative\", \"Negative\", \"Negative\", \"Negative\", \"Negative\",\n",
        "             \"Negative\", \"Positive\", \"Negative\", \"Negative\", \"Negative\",\n",
        "             \"Negative\", \"Negative\", \"Negative\", \"Negative\", \"Negative\",\n",
        "             \"Negative\", \"Positive\", \"Positive\", \"Positive\", \"Positive\",\n",
        "             \"Positive\", \"Positive\", \"Positive\", \"Positive\", \"Positive\",\n",
        "             \"Positive\", \"Positive\", \"Positive\", \"Positive\", \"Positive\",\n",
        "             \"Positive\", \"Positive\", \"Positive\", \"Positive\", \"Positive\",\n",
        "             \"Positive\", \"Positive\", \"Positive\", \"Positive\", \"Positive\",\n",
        "             \"Positive\", \"Negative\", \"Positive\", \"Positive\", \"Positive\"]:\n",
        "    predicted_labels.append(labels[word])\n",
        "\n",
        "f1 = f1_score(ground_truth_labels, predicted_labels, average='weighted')\n",
        "print(\"F1 score:\",f1)"
      ],
      "metadata": {
        "colab": {
          "base_uri": "https://localhost:8080/"
        },
        "id": "7lBLfmKZQuEU",
        "outputId": "d68d0a3e-0e6c-49b0-abc9-4586fcf1bab9"
      },
      "execution_count": null,
      "outputs": [
        {
          "output_type": "stream",
          "name": "stdout",
          "text": [
            "F1 score: 0.8585858585858586\n"
          ]
        }
      ]
    },
    {
      "cell_type": "markdown",
      "source": [
        "### **Zero Shot CoT**\n",
        "**Prompt used** \"Act as a sentiment analyzer. For each of the following 50 tweets analyze the sentiment. Let's think step by step. The sentiment can ONLY be either positive or negative. Mention only the sentiment of each tweet (Positive or Negative). Do not mention neutral.\"\n",
        "\n",
        "Similar to ChatGPT using zero shot CoT prompting has increased the performance in Gemini. Although it is still a small increase as compared to ChatGPT it is nevertheless an increase.\n",
        "\n",
        "This is also the best performance for gemini so far with an F1 score of 0.899"
      ],
      "metadata": {
        "id": "SK0XIwnosBk8"
      }
    },
    {
      "cell_type": "code",
      "source": [
        "from sklearn.metrics import f1_score\n",
        "\n",
        "labels = {\"Negative\": 0, \"Positive\": 2}\n",
        "\n",
        "values = [\n",
        "    \"Negative\", \"Negative\", \"Negative\", \"Negative\", \"Positive\",\n",
        "    \"Negative\", \"Negative\", \"Negative\", \"Negative\", \"Negative\",\n",
        "    \"Negative\", \"Negative\", \"Negative\", \"Negative\", \"Negative\",\n",
        "    \"Negative\", \"Negative\", \"Negative\", \"Negative\", \"Negative\",\n",
        "    \"Negative\", \"Negative\", \"Negative\", \"Negative\", \"Positive\",\n",
        "    \"Positive\", \"Positive\", \"Positive\", \"Positive\", \"Positive\",\n",
        "    \"Positive\", \"Positive\", \"Positive\", \"Positive\", \"Positive\",\n",
        "    \"Negative\", \"Positive\", \"Negative\", \"Positive\", \"Positive\",\n",
        "    \"Positive\", \"Positive\", \"Positive\", \"Positive\", \"Positive\",\n",
        "    \"Positive\", \"Positive\", \"Negative\", \"Positive\", \"Positive\"\n",
        "]\n",
        "\n",
        "predicted_labels = [labels[value] for value in values]\n",
        "\n",
        "f1 = f1_score(ground_truth_labels, predicted_labels, average='weighted')\n",
        "print(\"F1 score:\",f1)"
      ],
      "metadata": {
        "colab": {
          "base_uri": "https://localhost:8080/"
        },
        "id": "xH1yxNP9sFV0",
        "outputId": "4aeb428a-c20b-486c-824e-b1047df29b8f"
      },
      "execution_count": null,
      "outputs": [
        {
          "output_type": "stream",
          "name": "stdout",
          "text": [
            "F1 score: 0.8999599839935974\n"
          ]
        }
      ]
    },
    {
      "cell_type": "markdown",
      "source": [
        "### **Graph plot**"
      ],
      "metadata": {
        "id": "Ro4TJ3rEkN6l"
      }
    },
    {
      "cell_type": "code",
      "source": [
        "import numpy as np\n",
        "import matplotlib.pyplot as plt\n",
        "\n",
        "prompt_styles = [\"Regular prompt\", \"Emotion prompt\", \"Zero shot CoT\"]\n",
        "chatgpt_f1_scores = [0.878, 0.959, 0.979]\n",
        "gemini_f1_scores = [0.819, 0.858, 0.899]\n",
        "\n",
        "f1_scores = chatgpt_f1_scores + gemini_f1_scores\n",
        "\n",
        "x = np.arange(len(prompt_styles))\n",
        "width = 0.35\n",
        "\n",
        "fig, ax = plt.subplots(figsize=(8, 6))\n",
        "\n",
        "ax.bar(x - width/2, chatgpt_f1_scores, width, label='ChatGPT', color='blue')\n",
        "ax.bar(x + width/2, gemini_f1_scores, width, label='Gemini', color='red')\n",
        "\n",
        "ax.set_ylabel('F1 Score')\n",
        "ax.set_title('F1 Scores by Model')\n",
        "ax.set_xticks(x)\n",
        "ax.set_xticklabels(prompt_styles)\n",
        "ax.legend()\n",
        "\n",
        "plt.tight_layout()\n",
        "plt.show()"
      ],
      "metadata": {
        "colab": {
          "base_uri": "https://localhost:8080/",
          "height": 607
        },
        "id": "V_lTvTizhYeC",
        "outputId": "1f86bf68-95b1-4885-a202-0783a5b7b2b5"
      },
      "execution_count": null,
      "outputs": [
        {
          "output_type": "display_data",
          "data": {
            "text/plain": [
              "<Figure size 800x600 with 1 Axes>"
            ],
            "image/png": "[encoded data removed]"
          },
          "metadata": {}
        }
      ]
    },
    {
      "cell_type": "markdown",
      "source": [
        "# b) **Multilingual prompting**"
      ],
      "metadata": {
        "id": "xjRN8VKsg1fU"
      }
    },
    {
      "cell_type": "code",
      "source": [
        "import json\n",
        "\n",
        "labels = [\"negative\", \"neutral\", \"positive\"]\n",
        "label_nums = [0, 1, 2]\n",
        "\n",
        "k = 25\n",
        "\n",
        "# Load train and test data. Change according to need\n",
        "with open(\"/content/drive/MyDrive/Colab Notebooks/es_test.jsonl\", \"r\") as test_file:\n",
        "    test_data = [json.loads(line) for line in test_file]\n",
        "\n",
        "exemplars = {label: [] for label in label_nums}\n",
        "ground_truth_labels = []\n",
        "\n",
        "# Populate exemplars with the first k values of each class\n",
        "for entry in test_data:\n",
        "    label = int(entry[\"label\"])\n",
        "    if label!=1 and len(exemplars[label]) < k:\n",
        "        exemplars[label].append(entry[\"text\"])\n",
        "        ground_truth_labels.append(label)\n",
        "\n",
        "ground_truth_labels.sort()\n",
        "\n",
        "index_counter = 1\n",
        "\n",
        "for label, values in exemplars.items():\n",
        "    for value in values:\n",
        "        print(f\"{index_counter}) {value}\")\n",
        "        index_counter += 1"
      ],
      "metadata": {
        "id": "e7px72VohYWu"
      },
      "execution_count": null,
      "outputs": []
    },
    {
      "cell_type": "markdown",
      "source": [
        "## **ChatGPT**"
      ],
      "metadata": {
        "id": "77KvY4IRhIoE"
      }
    },
    {
      "cell_type": "markdown",
      "source": [
        "### **English prompt with german test set**\n",
        "Prompt used: \"Act as a sentiment analyzer. For each of the following 50 tweets analyze the sentiment. The sentiment can only be either positive or negative. Mention only the sentiment of each tweet.\n",
        "Remember there are 50 tweets:\"\n",
        "\n",
        "An interesting thing about the prompt I used is that I had to remind ChatGPT that I provided 50 tweets as it consistently only produced sentiments for 48-49 tweets.\n",
        "\n",
        "Nevertheless the performance seems to be very good with an english prompt."
      ],
      "metadata": {
        "id": "L8646-w4hNWA"
      }
    },
    {
      "cell_type": "code",
      "source": [
        "from sklearn.metrics import f1_score\n",
        "\n",
        "labels = {\"Negative\": 0, \"Positive\": 2}\n",
        "\n",
        "predicted_labels = []\n",
        "for value in [\"Negative\", \"Negative\", \"Negative\", \"Negative\", \"Positive\",\n",
        "              \"Negative\", \"Negative\", \"Negative\", \"Negative\", \"Negative\",\n",
        "              \"Negative\", \"Negative\", \"Negative\", \"Negative\", \"Negative\",\n",
        "              \"Negative\", \"Negative\", \"Negative\", \"Negative\", \"Negative\",\n",
        "              \"Negative\", \"Negative\", \"Negative\", \"Positive\", \"Positive\",\n",
        "              \"Positive\", \"Positive\", \"Positive\", \"Positive\", \"Positive\",\n",
        "              \"Positive\", \"Positive\", \"Positive\", \"Positive\", \"Positive\",\n",
        "              \"Positive\", \"Negative\", \"Positive\", \"Positive\", \"Positive\",\n",
        "              \"Positive\", \"Positive\", \"Positive\", \"Positive\", \"Positive\",\n",
        "              \"Positive\", \"Positive\", \"Negative\", \"Positive\", \"Negative\"]:\n",
        "    predicted_labels.append(labels[value])\n",
        "\n",
        "f1 = f1_score(ground_truth_labels, predicted_labels, average='weighted')\n",
        "print(\"F1 score:\",f1)"
      ],
      "metadata": {
        "colab": {
          "base_uri": "https://localhost:8080/"
        },
        "id": "VacVWfnOhHs3",
        "outputId": "2de904d9-9828-4f8b-fbf1-1d80b1bca113"
      },
      "execution_count": null,
      "outputs": [
        {
          "output_type": "stream",
          "name": "stdout",
          "text": [
            "F1 score: 0.88\n"
          ]
        }
      ]
    },
    {
      "cell_type": "markdown",
      "source": [
        "### **German prompt with german test set**\n",
        "**Prompt used**: \"Fungieren Sie als Stimmungsanalysator. Analysieren Sie für jeden der folgenden 50 Tweets die Stimmung. Die Stimmung kann nur entweder positiv oder negativ sein. Erwähnen Sie nur die Stimmung jedes Tweets.\n",
        "Denken Sie daran, es gibt 50 Tweets:\"\n",
        "\n",
        "The prompt was translated using google translate.\n",
        "\n",
        "Giving a prompt in german for the german test set massively improved the F1 score. What is surprising to me is that this performance is better than the english prompt used for the english test set in the previous section which has an F1-score of 0.878. This might have been a random occurrence but it is still very interesting."
      ],
      "metadata": {
        "id": "S7RKQ0aNj8o1"
      }
    },
    {
      "cell_type": "code",
      "source": [
        "from sklearn.metrics import f1_score\n",
        "\n",
        "labels = {\"Negativ\": 0, \"Positiv\": 2}\n",
        "\n",
        "predicted_labels = []\n",
        "for value in [\"Negativ\", \"Negativ\", \"Negativ\", \"Negativ\", \"Negativ\",\n",
        "              \"Negativ\", \"Negativ\", \"Negativ\", \"Negativ\", \"Negativ\",\n",
        "              \"Negativ\", \"Negativ\", \"Negativ\", \"Negativ\", \"Negativ\",\n",
        "              \"Negativ\", \"Negativ\", \"Negativ\", \"Negativ\", \"Negativ\",\n",
        "              \"Negativ\", \"Negativ\", \"Negativ\", \"Negativ\", \"Positiv\",\n",
        "              \"Positiv\", \"Positiv\", \"Positiv\", \"Positiv\", \"Positiv\",\n",
        "              \"Positiv\", \"Positiv\", \"Positiv\", \"Positiv\", \"Positiv\",\n",
        "              \"Positiv\", \"Positiv\", \"Positiv\", \"Positiv\", \"Positiv\",\n",
        "              \"Positiv\", \"Positiv\", \"Positiv\", \"Positiv\", \"Positiv\",\n",
        "              \"Positiv\", \"Positiv\", \"Positiv\", \"Positiv\", \"Negativ\"]:\n",
        "    predicted_labels.append(labels[value])\n",
        "\n",
        "f1 = f1_score(ground_truth_labels, predicted_labels, average='weighted')\n",
        "print(\"F1 score:\",f1)"
      ],
      "metadata": {
        "colab": {
          "base_uri": "https://localhost:8080/"
        },
        "id": "6h_ew7jPj7zm",
        "outputId": "66f84dcf-575b-46d1-837e-f17a1f083e59"
      },
      "execution_count": null,
      "outputs": [
        {
          "output_type": "stream",
          "name": "stdout",
          "text": [
            "F1 score: 0.96\n"
          ]
        }
      ]
    },
    {
      "cell_type": "markdown",
      "source": [
        "### **English prompt with French test set**\n",
        "Prompt used: \"Act as a sentiment analyzer. For each of the following 50 tweets analyze the sentiment. Mention only the sentiment of each tweet (Positive or Negative). Do NOT mention Neutral. Remember there are 50 tweets.\"\n",
        "\n",
        "I was very surprised at the low performance of ChatGPT on the French dataset. I imagined the performance would be at least on par with English because French is also a high resource language."
      ],
      "metadata": {
        "id": "ZCIRy9GdlPRE"
      }
    },
    {
      "cell_type": "code",
      "source": [
        "from sklearn.metrics import f1_score\n",
        "\n",
        "labels = {\"Negative\": 0, \"Positive\": 2}\n",
        "\n",
        "values = [\n",
        "    \"Negative\", \"Negative\", \"Negative\", \"Negative\", \"Negative\",\n",
        "    \"Negative\", \"Negative\", \"Positive\", \"Positive\", \"Positive\",\n",
        "    \"Positive\", \"Positive\", \"Negative\", \"Negative\", \"Positive\",\n",
        "    \"Negative\", \"Negative\", \"Negative\", \"Negative\", \"Negative\",\n",
        "    \"Negative\", \"Positive\", \"Positive\", \"Negative\", \"Positive\",\n",
        "    \"Positive\", \"Positive\", \"Positive\", \"Positive\", \"Positive\",\n",
        "    \"Positive\", \"Positive\", \"Negative\", \"Positive\", \"Negative\",\n",
        "    \"Negative\", \"Negative\", \"Positive\", \"Positive\", \"Positive\",\n",
        "    \"Positive\", \"Positive\", \"Negative\", \"Positive\", \"Positive\",\n",
        "    \"Positive\", \"Positive\", \"Positive\", \"Positive\", \"Positive\"\n",
        "]\n",
        "\n",
        "predicted_labels = [labels[value] for value in values]\n",
        "\n",
        "f1 = f1_score(ground_truth_labels, predicted_labels, average='weighted')\n",
        "print(\"F1 score:\",f1)"
      ],
      "metadata": {
        "colab": {
          "base_uri": "https://localhost:8080/"
        },
        "id": "maI9-9EVlWuo",
        "outputId": "2fc69923-a120-4801-e2c8-d10011db1021"
      },
      "execution_count": null,
      "outputs": [
        {
          "output_type": "stream",
          "name": "stdout",
          "text": [
            "F1 score: 0.7181964573268921\n"
          ]
        }
      ]
    },
    {
      "cell_type": "markdown",
      "source": [
        "### **French prompt with French test set**\n",
        "Prompt used: \"Agir en tant qu’analyseur de sentiments. Pour chacun des 50 tweets suivants, analysez le sentiment. Mentionnez uniquement le sentiment de chaque tweet (positif ou négatif). Ne mentionnez PAS Neutre. N'oubliez pas qu'il y a 50 tweets.\"\n",
        "\n",
        "The prompt was translated using google translate.\n",
        "\n",
        "A small increase in performance is seen when a french prompt is used on the dataset. But this is still one of the weakest performances by ChatGPT."
      ],
      "metadata": {
        "id": "h_ANGY43noKN"
      }
    },
    {
      "cell_type": "code",
      "source": [
        "from sklearn.metrics import f1_score\n",
        "\n",
        "labels = {\"Négatif\": 0, \"Positif\": 2}\n",
        "\n",
        "values = [\n",
        "    \"Négatif\", \"Négatif\", \"Négatif\", \"Négatif\", \"Négatif\",\n",
        "    \"Négatif\", \"Négatif\", \"Positif\", \"Négatif\", \"Négatif\",\n",
        "    \"Positif\", \"Positif\", \"Négatif\", \"Négatif\", \"Positif\",\n",
        "    \"Négatif\", \"Négatif\", \"Négatif\", \"Négatif\", \"Négatif\",\n",
        "    \"Négatif\", \"Positif\", \"Positif\", \"Négatif\", \"Positif\",\n",
        "    \"Positif\", \"Positif\", \"Positif\", \"Positif\", \"Positif\",\n",
        "    \"Positif\", \"Positif\", \"Négatif\", \"Positif\", \"Négatif\",\n",
        "    \"Négatif\", \"Négatif\", \"Positif\", \"Positif\", \"Positif\",\n",
        "    \"Positif\", \"Positif\", \"Négatif\", \"Positif\", \"Positif\",\n",
        "    \"Positif\", \"Positif\", \"Positif\", \"Positif\", \"Positif\"\n",
        "]\n",
        "\n",
        "predicted_labels = [labels[value] for value in values]\n",
        "\n",
        "f1 = f1_score(ground_truth_labels, predicted_labels, average='weighted')\n",
        "print(\"F1 score:\",f1)"
      ],
      "metadata": {
        "colab": {
          "base_uri": "https://localhost:8080/"
        },
        "id": "4QSTjCN-o3ym",
        "outputId": "6cd42686-7730-4d15-f3f3-b050daa15a68"
      },
      "execution_count": null,
      "outputs": [
        {
          "output_type": "stream",
          "name": "stdout",
          "text": [
            "F1 score: 0.7596153846153846\n"
          ]
        }
      ]
    },
    {
      "cell_type": "markdown",
      "source": [
        "### **English prompt with Hindi test set**\n",
        "Prompt used: \"Act as a sentiment analyzer. For each of the following 50 tweets analyze the sentiment. Mention only the sentiment of each tweet (Positive or Negative). Do NOT mention Neutral. Remember there are 50 tweets.\"\n",
        "\n",
        "Even with specific instructions the model predicted neutral for a few tweets which caused the F1 score to be fairly average."
      ],
      "metadata": {
        "id": "R_s1UIq8vx74"
      }
    },
    {
      "cell_type": "code",
      "source": [
        "from sklearn.metrics import f1_score\n",
        "\n",
        "labels = {\"Negative\": 0, \"Neutral\":1, \"Positive\": 2}\n",
        "\n",
        "values = [\n",
        "    \"Negative\", \"Negative\", \"Negative\", \"Neutral\", \"Negative\",\n",
        "    \"Negative\", \"Negative\", \"Neutral\", \"Neutral\", \"Negative\",\n",
        "    \"Neutral\", \"Negative\", \"Negative\", \"Negative\", \"Negative\",\n",
        "    \"Negative\", \"Negative\", \"Negative\", \"Negative\", \"Negative\",\n",
        "    \"Negative\", \"Negative\", \"Negative\", \"Neutral\", \"Negative\",\n",
        "    \"Positive\", \"Positive\", \"Negative\", \"Negative\", \"Neutral\",\n",
        "    \"Neutral\", \"Neutral\", \"Positive\", \"Positive\", \"Positive\",\n",
        "    \"Positive\", \"Negative\", \"Negative\", \"Positive\", \"Positive\",\n",
        "    \"Positive\", \"Neutral\", \"Positive\", \"Positive\", \"Neutral\",\n",
        "    \"Neutral\", \"Neutral\", \"Positive\", \"Negative\", \"Positive\"\n",
        "]\n",
        "\n",
        "predicted_labels = [labels[value] for value in values]\n",
        "\n",
        "f1 = f1_score(ground_truth_labels, predicted_labels, average='weighted')\n",
        "print(\"F1 score:\",f1)"
      ],
      "metadata": {
        "colab": {
          "base_uri": "https://localhost:8080/"
        },
        "id": "IfjYr_Ekv4Ob",
        "outputId": "91e6d436-3248-4ee2-8f23-7e9b10aa1cfc"
      },
      "execution_count": null,
      "outputs": [
        {
          "output_type": "stream",
          "name": "stdout",
          "text": [
            "F1 score: 0.7421052631578948\n"
          ]
        }
      ]
    },
    {
      "cell_type": "markdown",
      "source": [
        "### **Hindi prompt with Hindi test set**\n",
        "Prompt used: \"ek bhaavana vishleshak ke roop mein kaary karen. nimnalikhit 50 tveets mein se pratyek ke lie bhaavana ka vishleshan karen. pratyek tveet kee bhaavana (sakaaraatmak ya nakaaraatmak) ka hee ullekh karen. tatasth ka ullekh na karen. yaad rakhen 50 tveet hain.\"\n",
        "\n",
        "The prompt was translated using google translate.\n",
        "\n",
        "There is a good increase in performance when Hindi prompt is used. An interesting observation I had was the model started to explain the reason for each sentiment prediction even though I had not prompted it to."
      ],
      "metadata": {
        "id": "E378oedNv4dq"
      }
    },
    {
      "cell_type": "code",
      "source": [
        "from sklearn.metrics import f1_score\n",
        "\n",
        "labels = {\"Nakaaraatmak\": 0, \"Sakaaraatmak\": 2}\n",
        "\n",
        "values = [\n",
        "    \"Nakaaraatmak\", \"Nakaaraatmak\", \"Nakaaraatmak\", \"Nakaaraatmak\", \"Nakaaraatmak\",\n",
        "    \"Nakaaraatmak\", \"Nakaaraatmak\", \"Sakaaraatmak\", \"Sakaaraatmak\", \"Nakaaraatmak\",\n",
        "    \"Sakaaraatmak\", \"Nakaaraatmak\", \"Nakaaraatmak\", \"Nakaaraatmak\", \"Nakaaraatmak\",\n",
        "    \"Nakaaraatmak\", \"Nakaaraatmak\", \"Nakaaraatmak\", \"Nakaaraatmak\", \"Nakaaraatmak\",\n",
        "    \"Nakaaraatmak\", \"Nakaaraatmak\", \"Nakaaraatmak\", \"Sakaaraatmak\", \"Nakaaraatmak\",\n",
        "    \"Sakaaraatmak\", \"Sakaaraatmak\", \"Sakaaraatmak\", \"Sakaaraatmak\", \"Sakaaraatmak\",\n",
        "    \"Sakaaraatmak\", \"Sakaaraatmak\", \"Sakaaraatmak\", \"Sakaaraatmak\", \"Sakaaraatmak\",\n",
        "    \"Sakaaraatmak\", \"Sakaaraatmak\", \"Nakaaraatmak\", \"Sakaaraatmak\", \"Sakaaraatmak\",\n",
        "    \"Sakaaraatmak\", \"Nakaaraatmak\", \"Sakaaraatmak\", \"Sakaaraatmak\", \"Nakaaraatmak\",\n",
        "    \"Nakaaraatmak\", \"Sakaaraatmak\", \"Sakaaraatmak\", \"Nakaaraatmak\", \"Sakaaraatmak\"\n",
        "]\n",
        "\n",
        "predicted_labels = [labels[value] for value in values]\n",
        "\n",
        "f1 = f1_score(ground_truth_labels, predicted_labels, average='weighted')\n",
        "print(\"F1 score:\",f1)"
      ],
      "metadata": {
        "colab": {
          "base_uri": "https://localhost:8080/"
        },
        "id": "3CkFzNOKv7YU",
        "outputId": "588c463b-9409-4c57-d2a8-b015e0b68697"
      },
      "execution_count": null,
      "outputs": [
        {
          "output_type": "stream",
          "name": "stdout",
          "text": [
            "F1 score: 0.8199279711884754\n"
          ]
        }
      ]
    },
    {
      "cell_type": "markdown",
      "source": [
        "### **English Prompt Italian test set**\n",
        "Prompt used: \"Act as a sentiment analyzer. For each of the following 50 tweets analyze the sentiment. The sentiment can only be either positive or negative. Mention only the sentiment of each tweet. Remember there are 50 tweets:\n",
        "\""
      ],
      "metadata": {
        "id": "wr6FHv8sup_6"
      }
    },
    {
      "cell_type": "code",
      "source": [
        "from sklearn.metrics import f1_score\n",
        "\n",
        "labels = {\"Negative\": 0, \"Positive\": 2}\n",
        "\n",
        "values = [\n",
        "    \"Negative\", \"Negative\", \"Negative\", \"Negative\", \"Negative\",\n",
        "    \"Negative\", \"Negative\", \"Negative\", \"Negative\", \"Negative\",\n",
        "    \"Negative\", \"Negative\", \"Negative\", \"Negative\", \"Positive\",\n",
        "    \"Negative\", \"Negative\", \"Negative\", \"Negative\", \"Negative\",\n",
        "    \"Negative\", \"Negative\", \"Positive\", \"Negative\", \"Negative\",\n",
        "    \"Positive\", \"Positive\", \"Positive\", \"Positive\", \"Positive\",\n",
        "    \"Negative\", \"Positive\", \"Positive\", \"Positive\", \"Positive\",\n",
        "    \"Positive\", \"Positive\", \"Positive\", \"Positive\", \"Positive\",\n",
        "    \"Positive\", \"Positive\", \"Negative\", \"Positive\", \"Positive\",\n",
        "    \"Positive\", \"Positive\", \"Negative\", \"Positive\", \"Positive\"\n",
        "]\n",
        "\n",
        "predicted_labels = [labels[value] for value in values]\n",
        "\n",
        "\n",
        "f1 = f1_score(ground_truth_labels, predicted_labels, average='weighted')\n",
        "print(\"F1 score:\",f1)"
      ],
      "metadata": {
        "colab": {
          "base_uri": "https://localhost:8080/"
        },
        "id": "TdhjDUqIvXlm",
        "outputId": "84a429b3-8298-450f-e56c-883ab3145c8e"
      },
      "execution_count": null,
      "outputs": [
        {
          "output_type": "stream",
          "name": "stdout",
          "text": [
            "F1 score: 0.8999599839935974\n"
          ]
        }
      ]
    },
    {
      "cell_type": "markdown",
      "source": [
        "### **Italian prompt Italian test set**\n",
        "Prompt used: \"Agire come un analizzatore del sentiment. Per ognuno dei successivi 50 tweet analizziamo il sentiment. Il sentimento può essere solo positivo o negativo. Menziona solo il sentimento di ogni tweet. Ricorda che ci sono 50 tweet:\"\n",
        "\n",
        "The prompt was translated using google translate.\n",
        "\n",
        "A slight decrease in performance when compared to the english prompt."
      ],
      "metadata": {
        "id": "wiwxN834vX5O"
      }
    },
    {
      "cell_type": "code",
      "source": [
        "from sklearn.metrics import f1_score\n",
        "\n",
        "labels = {\"Negativo\": 0, \"Positivo\": 2}\n",
        "\n",
        "values = [\n",
        "    \"Negativo\", \"Negativo\", \"Negativo\", \"Negativo\", \"Negativo\",\n",
        "    \"Negativo\", \"Negativo\", \"Negativo\", \"Negativo\", \"Negativo\",\n",
        "    \"Negativo\", \"Positivo\", \"Negativo\", \"Negativo\", \"Positivo\",\n",
        "    \"Negativo\", \"Positivo\", \"Negativo\", \"Negativo\", \"Negativo\",\n",
        "    \"Negativo\", \"Negativo\", \"Positivo\", \"Negativo\", \"Negativo\",\n",
        "    \"Positivo\", \"Positivo\", \"Positivo\", \"Positivo\", \"Positivo\",\n",
        "    \"Positivo\", \"Positivo\", \"Positivo\", \"Positivo\", \"Positivo\",\n",
        "    \"Positivo\", \"Positivo\", \"Positivo\", \"Positivo\", \"Positivo\",\n",
        "    \"Positivo\", \"Positivo\", \"Negativo\", \"Positivo\", \"Positivo\",\n",
        "    \"Positivo\", \"Positivo\", \"Negativo\", \"Positivo\", \"Positivo\"\n",
        "]\n",
        "\n",
        "predicted_labels = [labels[value] for value in values]\n",
        "\n",
        "\n",
        "f1 = f1_score(ground_truth_labels, predicted_labels, average='weighted')\n",
        "print(\"F1 score:\",f1)"
      ],
      "metadata": {
        "colab": {
          "base_uri": "https://localhost:8080/"
        },
        "id": "0rM30c-ivdd4",
        "outputId": "ee06037b-2d4e-4ecb-fd1f-f6a62ffc4825"
      },
      "execution_count": null,
      "outputs": [
        {
          "output_type": "stream",
          "name": "stdout",
          "text": [
            "F1 score: 0.8798076923076923\n"
          ]
        }
      ]
    },
    {
      "cell_type": "markdown",
      "source": [
        "### **English Prompt Portuguese test set**\n",
        "Prompt used: \"Act as a sentiment analyzer. For each of the following 50 tweets analyze the sentiment. The sentiment can only be either positive or negative. Mention only the sentiment of each tweet. Remember there are 50 tweets:\n",
        "\""
      ],
      "metadata": {
        "id": "VS9wqvt8y5ru"
      }
    },
    {
      "cell_type": "code",
      "source": [
        "from sklearn.metrics import f1_score\n",
        "\n",
        "labels = {\"Negative\": 0, \"Positive\": 2}\n",
        "\n",
        "values = [\n",
        "    \"Positive\", \"Negative\", \"Negative\", \"Negative\", \"Negative\",\n",
        "    \"Negative\", \"Negative\", \"Positive\", \"Negative\", \"Negative\",\n",
        "    \"Negative\", \"Positive\", \"Negative\", \"Negative\", \"Negative\",\n",
        "    \"Negative\", \"Positive\", \"Negative\", \"Negative\", \"Positive\",\n",
        "    \"Negative\", \"Negative\", \"Negative\", \"Negative\", \"Positive\",\n",
        "    \"Positive\", \"Positive\", \"Positive\", \"Positive\", \"Positive\",\n",
        "    \"Positive\", \"Positive\", \"Positive\", \"Positive\", \"Positive\",\n",
        "    \"Positive\", \"Positive\", \"Positive\", \"Positive\", \"Positive\",\n",
        "    \"Positive\", \"Positive\", \"Positive\", \"Positive\", \"Positive\",\n",
        "    \"Positive\", \"Positive\", \"Positive\", \"Positive\", \"Positive\"\n",
        "]\n",
        "\n",
        "predicted_labels = [labels[value] for value in values]\n",
        "\n",
        "\n",
        "f1 = f1_score(ground_truth_labels, predicted_labels, average='weighted')\n",
        "print(\"F1 score:\",f1)"
      ],
      "metadata": {
        "colab": {
          "base_uri": "https://localhost:8080/"
        },
        "id": "iB9nNMAUy_tr",
        "outputId": "4fe17029-e409-44b9-f2c8-d6a85f1dd81d"
      },
      "execution_count": null,
      "outputs": [
        {
          "output_type": "stream",
          "name": "stdout",
          "text": [
            "F1 score: 0.8782467532467533\n"
          ]
        }
      ]
    },
    {
      "cell_type": "markdown",
      "source": [
        "### **Portuguese prompt Portuguese test set**\n",
        "Prompt used: \"Atuar como um analisador de sentimento. Para cada um dos 50 tweets a seguir, analise o sentimento. O sentimento só pode ser positivo ou negativo. Mencione apenas o sentimento de cada tweet. Lembre-se de que existem 50 tweets:\"\n",
        "\n",
        "The prompt was translated using google translate.\n",
        "\n",
        "Similar to Italian a slight decrease in performance when compared to the english prompt."
      ],
      "metadata": {
        "id": "BToLXJU0y_7w"
      }
    },
    {
      "cell_type": "code",
      "source": [
        "from sklearn.metrics import f1_score\n",
        "\n",
        "labels = {\"Negativo\": 0, \"Positivo\": 2}\n",
        "\n",
        "values = [\n",
        "    \"Positivo\", \"Negativo\", \"Negativo\", \"Negativo\", \"Negativo\",\n",
        "    \"Negativo\", \"Negativo\", \"Positivo\", \"Positivo\", \"Negativo\",\n",
        "    \"Negativo\", \"Positivo\", \"Negativo\", \"Negativo\", \"Negativo\",\n",
        "    \"Negativo\", \"Positivo\", \"Negativo\", \"Negativo\", \"Positivo\",\n",
        "    \"Negativo\", \"Negativo\", \"Negativo\", \"Negativo\", \"Positivo\",\n",
        "    \"Positivo\", \"Positivo\", \"Positivo\", \"Positivo\", \"Positivo\",\n",
        "    \"Positivo\", \"Positivo\", \"Positivo\", \"Positivo\", \"Positivo\",\n",
        "    \"Positivo\", \"Positivo\", \"Positivo\", \"Positivo\", \"Positivo\",\n",
        "    \"Positivo\", \"Positivo\", \"Positivo\", \"Positivo\", \"Positivo\",\n",
        "    \"Positivo\", \"Positivo\", \"Positivo\", \"Positivo\", \"Positivo\"\n",
        "]\n",
        "\n",
        "predicted_labels = [labels[value] for value in values]\n",
        "\n",
        "f1 = f1_score(ground_truth_labels, predicted_labels, average='weighted')\n",
        "print(\"F1 score:\",f1)"
      ],
      "metadata": {
        "colab": {
          "base_uri": "https://localhost:8080/"
        },
        "id": "d7S0fu4azAI4",
        "outputId": "1d92af7f-f0a5-4e38-edfd-a94068a8187d"
      },
      "execution_count": null,
      "outputs": [
        {
          "output_type": "stream",
          "name": "stdout",
          "text": [
            "F1 score: 0.8572011423908609\n"
          ]
        }
      ]
    },
    {
      "cell_type": "markdown",
      "source": [
        "### **English Prompt Spanish test set**\n",
        "Prompt used: \"Act as a sentiment analyzer. For each of the following 50 tweets analyze the sentiment. The sentiment can only be either positive or negative. Mention only the sentiment of each tweet. Remember there are 50 tweets:\n",
        "\"\n",
        "\n",
        "Perfect sentiment prediction."
      ],
      "metadata": {
        "id": "oyf92yKd1XiE"
      }
    },
    {
      "cell_type": "code",
      "source": [
        "from sklearn.metrics import f1_score\n",
        "\n",
        "labels = {\"Negative\": 0, \"Positive\": 2}\n",
        "\n",
        "values = [\n",
        "    \"Negative\", \"Negative\", \"Negative\", \"Negative\", \"Negative\",\n",
        "    \"Negative\", \"Negative\", \"Negative\", \"Negative\", \"Negative\",\n",
        "    \"Negative\", \"Negative\", \"Negative\", \"Negative\", \"Negative\",\n",
        "    \"Negative\", \"Negative\", \"Negative\", \"Negative\", \"Negative\",\n",
        "    \"Negative\", \"Negative\", \"Negative\", \"Negative\", \"Negative\",\n",
        "    \"Positive\", \"Positive\", \"Positive\", \"Positive\", \"Positive\",\n",
        "    \"Positive\", \"Positive\", \"Positive\", \"Positive\", \"Positive\",\n",
        "    \"Positive\", \"Positive\", \"Positive\", \"Positive\", \"Positive\",\n",
        "    \"Positive\", \"Positive\", \"Positive\", \"Positive\", \"Positive\",\n",
        "    \"Positive\", \"Positive\", \"Positive\", \"Positive\", \"Positive\"\n",
        "]\n",
        "\n",
        "predicted_labels = [labels[value] for value in values]\n",
        "\n",
        "\n",
        "f1 = f1_score(ground_truth_labels, predicted_labels, average='weighted')\n",
        "print(\"F1 score:\",f1)"
      ],
      "metadata": {
        "colab": {
          "base_uri": "https://localhost:8080/"
        },
        "id": "MzGZ0hFx1XxI",
        "outputId": "9cd114dd-cd9a-4c42-c0f7-ed3d64de7379"
      },
      "execution_count": null,
      "outputs": [
        {
          "output_type": "stream",
          "name": "stdout",
          "text": [
            "F1 score: 1.0\n"
          ]
        }
      ]
    },
    {
      "cell_type": "markdown",
      "source": [
        "### **Spanish Prompt Spanish test set**\n",
        "\n",
        "Prompt used: \"Actuar como analizador de sentimientos. Para cada uno de los siguientes 50 tweets, analice el sentimiento. El sentimiento sólo puede ser positivo o negativo. Mencione solo el sentimiento de cada tweet. Recuerda que son 50 tweets:\"\n",
        "\n",
        "The prompt was translated using google translate.\n",
        "\n",
        "A considerable decrease in performance when spanish prompt is used."
      ],
      "metadata": {
        "id": "xmlBN1AA1X9k"
      }
    },
    {
      "cell_type": "code",
      "source": [
        "from sklearn.metrics import f1_score\n",
        "\n",
        "labels = {\"Negativo\": 0, \"Positivo\": 2}\n",
        "\n",
        "values = [\n",
        "    \"Positivo\", \"Negativo\", \"Negativo\", \"Positivo\", \"Negativo\",\n",
        "    \"Negativo\", \"Negativo\", \"Positivo\", \"Negativo\", \"Positivo\",\n",
        "    \"Negativo\", \"Negativo\", \"Negativo\", \"Negativo\", \"Negativo\",\n",
        "    \"Negativo\", \"Negativo\", \"Negativo\", \"Negativo\", \"Negativo\",\n",
        "    \"Positivo\", \"Negativo\", \"Negativo\", \"Negativo\", \"Positivo\",\n",
        "    \"Positivo\", \"Positivo\", \"Positivo\", \"Positivo\", \"Positivo\",\n",
        "    \"Positivo\", \"Positivo\", \"Positivo\", \"Positivo\", \"Positivo\",\n",
        "    \"Positivo\", \"Positivo\", \"Positivo\", \"Positivo\", \"Positivo\",\n",
        "    \"Negativo\", \"Positivo\", \"Positivo\", \"Positivo\", \"Positivo\",\n",
        "    \"Negativo\", \"Positivo\", \"Positivo\", \"Positivo\", \"Positivo\"\n",
        "]\n",
        "\n",
        "predicted_labels = [labels[value] for value in values]\n",
        "\n",
        "\n",
        "f1 = f1_score(ground_truth_labels, predicted_labels, average='weighted')\n",
        "print(\"F1 score:\",f1)"
      ],
      "metadata": {
        "colab": {
          "base_uri": "https://localhost:8080/"
        },
        "id": "BEVHPJ8J1YLr",
        "outputId": "175a85b6-d619-4546-adba-3db5e691acb5"
      },
      "execution_count": null,
      "outputs": [
        {
          "output_type": "stream",
          "name": "stdout",
          "text": [
            "F1 score: 0.8389694041867954\n"
          ]
        }
      ]
    },
    {
      "cell_type": "markdown",
      "source": [
        "## **Gemini**"
      ],
      "metadata": {
        "id": "kfcD7Y1BoYy7"
      }
    },
    {
      "cell_type": "markdown",
      "source": [
        "### **English prompt with german test set**\n",
        "**Prompt used**: \"Act as a sentiment analyzer. For each of the following 50 tweets analyze the sentiment. The sentiment can only be either positive or negative. Mention only the sentiment of each tweet in the provided order.\"\n",
        "\n",
        "When I gave gemini this prompt it generated 2 drafts. The first draft contained neutral predictions as well even though I specifically mentioned in the prompt that the sentiment can only be either positive or negative.\n",
        "\n",
        "The second draft gave me the expected output. Although it performed much worse than ChatGPT. And this is an interesting thing about Gemini which is that it can generate multiple drafts which have varied performance and results."
      ],
      "metadata": {
        "id": "ToMdekEzA7Sm"
      }
    },
    {
      "cell_type": "code",
      "source": [
        "from sklearn.metrics import f1_score\n",
        "\n",
        "labels = {\"Negative\": 0, \"Positive\": 2}\n",
        "\n",
        "predicted_labels = []\n",
        "values = [\"Negative\", \"Positive\", \"Negative\", \"Negative\", \"Negative\",\n",
        "          \"Negative\", \"Negative\", \"Positive\", \"Negative\", \"Negative\",\n",
        "          \"Negative\", \"Negative\", \"Negative\", \"Positive\", \"Negative\",\n",
        "          \"Negative\", \"Negative\", \"Negative\", \"Negative\", \"Positive\",\n",
        "          \"Positive\", \"Positive\", \"Positive\", \"Negative\", \"Positive\",\n",
        "          \"Positive\", \"Negative\", \"Positive\", \"Negative\", \"Positive\",\n",
        "          \"Negative\", \"Positive\", \"Positive\", \"Positive\", \"Positive\",\n",
        "          \"Positive\", \"Positive\", \"Positive\", \"Positive\", \"Positive\",\n",
        "          \"Positive\", \"Positive\", \"Positive\", \"Positive\", \"Positive\",\n",
        "          \"Positive\", \"Positive\", \"Positive\", \"Positive\", \"Positive\"]\n",
        "\n",
        "for value in values:\n",
        "    predicted_labels.append(labels[value])\n",
        "\n",
        "f1 = f1_score(ground_truth_labels, predicted_labels, average='weighted')\n",
        "print(\"F1 score:\",f1)"
      ],
      "metadata": {
        "colab": {
          "base_uri": "https://localhost:8080/"
        },
        "id": "WUNqY5muBAUn",
        "outputId": "82944a6b-d3b5-464c-f435-c26d07f8a567"
      },
      "execution_count": null,
      "outputs": [
        {
          "output_type": "stream",
          "name": "stdout",
          "text": [
            "F1 score: 0.7777777777777779\n"
          ]
        }
      ]
    },
    {
      "cell_type": "markdown",
      "source": [
        "### **German prompt with german test set:**\n",
        "**Prompt used**: \"Fungieren Sie als Stimmungsanalysator. Analysieren Sie für jeden der folgenden 50 Tweets die Stimmung. Die Stimmung kann nur entweder positiv oder negativ sein. Erwähnen Sie nur die Stimmung jedes Tweets.\"\n",
        "\n",
        "The prompt was translated using google translate.\n",
        "\n",
        "Compared to ChatGPT the prompt being in the same language did not really help with the performance for Gemini. This could mean that regardless of the language used Gemini performs at about the same level. This could be a good thing in the sense that the user need not know the language of the dataset or text they want to analyze to get better performance.\n",
        "\n",
        "But I would still prefer ChatGPT because even with an English prompt for the german test set it outperforms Gemini comfortably."
      ],
      "metadata": {
        "id": "HH1As-yUDakW"
      }
    },
    {
      "cell_type": "code",
      "source": [
        "from sklearn.metrics import f1_score\n",
        "\n",
        "labels = {\"Negativ\": 0, \"Positiv\": 2}\n",
        "\n",
        "predicted_labels = []\n",
        "values = [\"Positiv\", \"Negativ\", \"Negativ\", \"Negativ\", \"Negativ\",\n",
        "          \"Negativ\", \"Negativ\", \"Positiv\", \"Negativ\", \"Negativ\",\n",
        "          \"Negativ\", \"Positiv\", \"Negativ\", \"Negativ\", \"Negativ\",\n",
        "          \"Negativ\", \"Negativ\", \"Positiv\", \"Negativ\", \"Positiv\",\n",
        "          \"Positiv\", \"Positiv\", \"Positiv\", \"Positiv\", \"Positiv\",\n",
        "          \"Positiv\", \"Positiv\", \"Positiv\", \"Positiv\", \"Positiv\",\n",
        "          \"Positiv\", \"Positiv\", \"Positiv\", \"Positiv\", \"Positiv\",\n",
        "          \"Positiv\", \"Positiv\", \"Positiv\", \"Positiv\", \"Positiv\",\n",
        "          \"Positiv\", \"Positiv\", \"Positiv\", \"Positiv\", \"Positiv\",\n",
        "          \"Positiv\", \"Positiv\", \"Positiv\", \"Positiv\", \"Positiv\"]\n",
        "\n",
        "for value in values:\n",
        "    predicted_labels.append(labels[value])\n",
        "\n",
        "f1 = f1_score(ground_truth_labels, predicted_labels, average='weighted')\n",
        "print(\"F1 score:\",f1)"
      ],
      "metadata": {
        "colab": {
          "base_uri": "https://localhost:8080/"
        },
        "id": "5YM_UG44DyYw",
        "outputId": "2b629af9-407e-4723-eef6-a5b3f4b33455"
      },
      "execution_count": null,
      "outputs": [
        {
          "output_type": "stream",
          "name": "stdout",
          "text": [
            "F1 score: 0.7916666666666665\n"
          ]
        }
      ]
    },
    {
      "cell_type": "markdown",
      "source": [
        "### **English prompt with French test set**\n",
        "Prompt used: \"Act as a sentiment analyzer. For each of the following 50 tweets analyze the sentiment. Mention only the sentiment of each tweet (Positive or Negative). Do NOT mention Neutral. Remember there are 50 tweets.\"\n",
        "\n",
        "An interesting observation is that even though I provided the prompt in english the model responded in French. ChatGPT had responded in english but Gemini seems to assume that I expect an answer in French because there is a lot of French text present.\n",
        "\n",
        "The performance is still very poor for French in Gemini as well. The model also generated some neutral prediction even with specific instructions not to which is interesting."
      ],
      "metadata": {
        "id": "TpD8aWh9s9bP"
      }
    },
    {
      "cell_type": "code",
      "source": [
        "from sklearn.metrics import f1_score\n",
        "\n",
        "labels = {\"Négatif\": 0, \"Neutre\": 1, \"Positif\": 2}\n",
        "\n",
        "values = [\n",
        "    \"Négatif\", \"Négatif\", \"Négatif\", \"Négatif\", \"Négatif\",\n",
        "    \"Négatif\", \"Négatif\", \"Positif\", \"Négatif\", \"Négatif\",\n",
        "    \"Positif\", \"Positif\", \"Négatif\", \"Négatif\", \"Positif\",\n",
        "    \"Négatif\", \"Négatif\", \"Négatif\", \"Négatif\", \"Négatif\",\n",
        "    \"Négatif\", \"Positif\", \"Négatif\", \"Négatif\", \"Positif\",\n",
        "    \"Positif\", \"Neutre\", \"Positif\", \"Positif\", \"Négatif\",\n",
        "    \"Positif\", \"Positif\", \"Négatif\", \"Positif\", \"Négatif\",\n",
        "    \"Négatif\", \"Négatif\", \"Positif\", \"Neutre\", \"Négatif\",\n",
        "    \"Positif\", \"Positif\", \"Négatif\", \"Positif\", \"Positif\",\n",
        "    \"Positif\", \"Positif\", \"Positif\", \"Neutre\", \"Positif\"\n",
        "]\n",
        "\n",
        "predicted_labels = [labels[value] for value in values]\n",
        "\n",
        "\n",
        "f1 = f1_score(ground_truth_labels, predicted_labels, average='weighted')\n",
        "print(\"F1 score:\",f1)"
      ],
      "metadata": {
        "colab": {
          "base_uri": "https://localhost:8080/"
        },
        "id": "h7zEQdRstDjF",
        "outputId": "cbb868a7-6479-4b14-cd96-701c415e7b95"
      },
      "execution_count": null,
      "outputs": [
        {
          "output_type": "stream",
          "name": "stdout",
          "text": [
            "F1 score: 0.6986359761295823\n"
          ]
        }
      ]
    },
    {
      "cell_type": "markdown",
      "source": [
        "### **French prompt with French test set**\n",
        "Prompt used: \"Agir en tant qu’analyseur de sentiments. Pour chacun des 50 tweets suivants, analysez le sentiment. Mentionnez uniquement le sentiment de chaque tweet (positif ou négatif). Ne mentionnez PAS Neutre. N'oubliez pas qu'il y a 50 tweets.\"\n",
        "\n",
        "The prompt was translated using google translate.\n",
        "\n",
        "Almost the same level of performance is seen even when a French prompt is used. The same behaviour present in German seems to be present here as well which is that regardless of the language used for the prompt the performance will generally be the same."
      ],
      "metadata": {
        "id": "JdxcXtg7tDzt"
      }
    },
    {
      "cell_type": "code",
      "source": [
        "from sklearn.metrics import f1_score\n",
        "\n",
        "labels = {\"Négatif\": 0, \"Neutre\": 1, \"Positif\": 2}\n",
        "\n",
        "values = [\n",
        "    \"Négatif\", \"Négatif\", \"Négatif\", \"Négatif\", \"Négatif\",\n",
        "    \"Négatif\", \"Négatif\", \"Positif\", \"Négatif\", \"Négatif\",\n",
        "    \"Positif\", \"Positif\", \"Négatif\", \"Négatif\", \"Positif\",\n",
        "    \"Négatif\", \"Négatif\", \"Négatif\", \"Négatif\", \"Négatif\",\n",
        "    \"Négatif\", \"Positif\", \"Négatif\", \"Négatif\", \"Positif\",\n",
        "    \"Positif\", \"Neutre\", \"Positif\", \"Positif\", \"Négatif\",\n",
        "    \"Positif\", \"Neutre\", \"Négatif\", \"Positif\", \"Négatif\",\n",
        "    \"Neutre\", \"Négatif\", \"Positif\", \"Neutre\", \"Négatif\",\n",
        "    \"Positif\", \"Positif\", \"Négatif\", \"Positif\", \"Positif\",\n",
        "    \"Positif\", \"Positif\", \"Positif\", \"Neutre\", \"Positif\"\n",
        "]\n",
        "\n",
        "predicted_labels = [labels[value] for value in values]\n",
        "\n",
        "\n",
        "f1 = f1_score(ground_truth_labels, predicted_labels, average='weighted')\n",
        "print(\"F1 score:\",f1)"
      ],
      "metadata": {
        "colab": {
          "base_uri": "https://localhost:8080/"
        },
        "id": "6OWN-TnetLTZ",
        "outputId": "62c7182c-9392-47ac-fb1c-2eab3ffee109"
      },
      "execution_count": null,
      "outputs": [
        {
          "output_type": "stream",
          "name": "stdout",
          "text": [
            "F1 score: 0.6911111111111111\n"
          ]
        }
      ]
    },
    {
      "cell_type": "markdown",
      "source": [
        "### **English prompt with Hindi test set**\n",
        "Prompt used: \"Act as a sentiment analyzer. For each of the following 50 tweets analyze the sentiment. Mention only the sentiment of each tweet (Positive or Negative). Do NOT mention Neutral. Remember there are 50 tweets.\"\n",
        "\n",
        "After trying multiple times and opening new chats as well Gemini refuses to analyze the sentiment of the tweets stating: \"Mujhe is vishay mein madad karne ke liye program nahin kiya gaya hai.\" which translates to \"I am not programmed to help with this topic\"."
      ],
      "metadata": {
        "id": "O1qiOsTgymyY"
      }
    },
    {
      "cell_type": "markdown",
      "source": [
        "### **Hindi prompt with Hindi test set**\n",
        "Prompt used: \"ek bhaavana vishleshak ke roop mein kaary karen. nimnalikhit 50 tveets mein se pratyek ke lie bhaavana ka vishleshan karen. pratyek tveet kee bhaavana (sakaaraatmak ya nakaaraatmak) ka hee ullekh karen. tatasth ka ullekh na karen. yaad rakhen 50 tveet hain.\"\n",
        "\n",
        "As expected Gemini again refuses to analyze the sentiment of the tweets stating \"Main ismein aapki madad nahin kar sakta, kyunki main sirf ek language model hoon aur mujhe is vishay ke baare mein zaroori jaankari nahin hai.\" which translates to \"I cannot help you with this, because I am just a Language model and I do not have the necessary information on this topic\"\n",
        "\n",
        "I wonder if this is because Hindi is a relatively low resource language when compared to the other languages in the dataset and Google just doesn't want to risk generating incorrect responses for tasks like sentiment analysis and just has Gemini refuse the task."
      ],
      "metadata": {
        "id": "fbGLiXTuyoJ2"
      }
    },
    {
      "cell_type": "markdown",
      "source": [
        "### **English Prompt Italian test set**\n",
        "Prompt used: \"Act as a sentiment analyzer. For each of the following 50 tweets analyze the sentiment. The sentiment can only be either positive or negative. Mention only the sentiment of each tweet. Remember there are 50 tweets:\n",
        "\"\n",
        "\n",
        "Similar to Hindi Gemini denied the request stating \"Non posso aiutarti, poiché sono solo un modello linguistico e non ho la capacità di elaborare e comprendere questa richiesta.\" which translates to \"I cannot help you, as I am only a language model and do not have the ability to process and understand this request.\""
      ],
      "metadata": {
        "id": "Ya485QO2xyuX"
      }
    },
    {
      "cell_type": "markdown",
      "source": [
        "### **Italian prompt Italian test set**\n",
        "Prompt used: \"Agire come un analizzatore del sentiment. Per ognuno dei successivi 50 tweet analizziamo il sentiment. Il sentimento può essere solo positivo o negativo. Menziona solo il sentimento di ogni tweet. Ricorda che ci sono 50 tweet:\"\n",
        "\n",
        "As expected the model denied the request stating \"Come modello linguistico, non posso aiutarti in questo caso.\" which translates to \"As a language model, I can't help you in this case.\""
      ],
      "metadata": {
        "id": "-67sLUhxx7MW"
      }
    },
    {
      "cell_type": "markdown",
      "source": [
        "### **English Prompt Portuguese test set**\n",
        "Prompt used: \"Act as a sentiment analyzer. For each of the following 50 tweets analyze the sentiment. The sentiment can only be either positive or negative. Mention only the sentiment of each tweet. Remember there are 50 tweets:\n",
        "\"\n",
        "\n",
        "This is the best performance by Gemini so far across all languages."
      ],
      "metadata": {
        "id": "YIIq8Pzbz196"
      }
    },
    {
      "cell_type": "code",
      "source": [
        "from sklearn.metrics import f1_score\n",
        "\n",
        "labels = {\"Negative\": 0, \"Positive\": 2}\n",
        "\n",
        "values = [\n",
        "    \"Positive\", \"Negative\", \"Negative\", \"Negative\", \"Negative\",\n",
        "    \"Negative\", \"Negative\", \"Positive\", \"Negative\", \"Negative\",\n",
        "    \"Negative\", \"Positive\", \"Negative\", \"Negative\", \"Negative\",\n",
        "    \"Negative\", \"Negative\", \"Negative\", \"Negative\", \"Negative\",\n",
        "    \"Negative\", \"Negative\", \"Negative\", \"Negative\", \"Positive\",\n",
        "    \"Positive\", \"Positive\", \"Positive\", \"Positive\", \"Positive\",\n",
        "    \"Positive\", \"Positive\", \"Positive\", \"Positive\", \"Positive\",\n",
        "    \"Positive\", \"Positive\", \"Positive\", \"Positive\", \"Positive\",\n",
        "    \"Positive\", \"Positive\", \"Positive\", \"Positive\", \"Positive\",\n",
        "    \"Positive\", \"Positive\", \"Positive\", \"Positive\", \"Positive\"\n",
        "]\n",
        "\n",
        "predicted_labels = [labels[value] for value in values]\n",
        "\n",
        "f1 = f1_score(ground_truth_labels, predicted_labels, average='weighted')\n",
        "print(\"F1 score:\",f1)"
      ],
      "metadata": {
        "colab": {
          "base_uri": "https://localhost:8080/"
        },
        "id": "BEgZNQxr0cft",
        "outputId": "4b839ecb-d6ba-420a-ed8e-56dcce33c0eb"
      },
      "execution_count": null,
      "outputs": [
        {
          "output_type": "stream",
          "name": "stdout",
          "text": [
            "F1 score: 0.9194847020933977\n"
          ]
        }
      ]
    },
    {
      "cell_type": "markdown",
      "source": [
        "### **Portuguese prompt Portuguese test set**\n",
        "Prompt used: \"Atuar como um analisador de sentimento. Para cada um dos 50 tweets a seguir, analise o sentimento. O sentimento só pode ser positivo ou negativo. Mencione apenas o sentimento de cada tweet. Lembre-se de que existem 50 tweets:\"\n",
        "\n",
        "The prompt was translated using google translate.\n",
        "\n",
        "Similar to ChatGPT a slight decrease in performance when compared to the english prompt."
      ],
      "metadata": {
        "id": "ocmP4fqSz2HZ"
      }
    },
    {
      "cell_type": "code",
      "source": [
        "from sklearn.metrics import f1_score\n",
        "\n",
        "labels = {\"Negativo\": 0, \"Positivo\": 2}\n",
        "\n",
        "values = [\n",
        "    \"Positivo\", \"Negativo\", \"Negativo\", \"Negativo\", \"Negativo\",\n",
        "    \"Negativo\", \"Negativo\", \"Positivo\", \"Negativo\", \"Negativo\",\n",
        "    \"Negativo\", \"Positivo\", \"Negativo\", \"Negativo\", \"Negativo\",\n",
        "    \"Negativo\", \"Positivo\", \"Negativo\", \"Negativo\", \"Positivo\",\n",
        "    \"Negativo\", \"Negativo\", \"Negativo\", \"Negativo\", \"Positivo\",\n",
        "    \"Positivo\", \"Positivo\", \"Positivo\", \"Positivo\", \"Positivo\",\n",
        "    \"Positivo\", \"Positivo\", \"Positivo\", \"Positivo\", \"Positivo\",\n",
        "    \"Positivo\", \"Positivo\", \"Positivo\", \"Positivo\", \"Positivo\",\n",
        "    \"Positivo\", \"Positivo\", \"Positivo\", \"Positivo\", \"Positivo\",\n",
        "    \"Positivo\", \"Positivo\", \"Positivo\", \"Positivo\", \"Positivo\"\n",
        "]\n",
        "\n",
        "predicted_labels = [labels[value] for value in values]\n",
        "\n",
        "f1 = f1_score(ground_truth_labels, predicted_labels, average='weighted')\n",
        "print(\"F1 score:\",f1)"
      ],
      "metadata": {
        "colab": {
          "base_uri": "https://localhost:8080/"
        },
        "id": "7mRJYS0U0wZk",
        "outputId": "b92472eb-8f07-491c-875d-9d5ab7ec126a"
      },
      "execution_count": null,
      "outputs": [
        {
          "output_type": "stream",
          "name": "stdout",
          "text": [
            "F1 score: 0.8782467532467533\n"
          ]
        }
      ]
    },
    {
      "cell_type": "markdown",
      "source": [
        "### **English Prompt Spanish test set**\n",
        "Prompt used: \"Act as a sentiment analyzer. For each of the following 50 tweets analyze the sentiment. The sentiment can only be either positive or negative. Mention only the sentiment of each tweet. Remember there are 50 tweets:\n",
        "\""
      ],
      "metadata": {
        "id": "EvrrHAJc3naj"
      }
    },
    {
      "cell_type": "code",
      "source": [
        "from sklearn.metrics import f1_score\n",
        "\n",
        "labels = {\"Negative\": 0, \"Positive\": 2}\n",
        "\n",
        "values = [\n",
        "    \"Positive\", \"Negative\", \"Negative\", \"Negative\", \"Negative\",\n",
        "    \"Negative\", \"Negative\", \"Positive\", \"Negative\", \"Negative\",\n",
        "    \"Negative\", \"Negative\", \"Negative\", \"Positive\", \"Negative\",\n",
        "    \"Negative\", \"Negative\", \"Negative\", \"Negative\", \"Negative\",\n",
        "    \"Negative\", \"Negative\", \"Negative\", \"Negative\", \"Positive\",\n",
        "    \"Positive\", \"Positive\", \"Positive\", \"Positive\", \"Positive\",\n",
        "    \"Positive\", \"Positive\", \"Positive\", \"Positive\", \"Positive\",\n",
        "    \"Positive\", \"Positive\", \"Positive\", \"Positive\", \"Positive\",\n",
        "    \"Positive\", \"Positive\", \"Positive\", \"Positive\", \"Positive\",\n",
        "    \"Negative\", \"Positive\", \"Positive\", \"Positive\", \"Positive\"\n",
        "]\n",
        "\n",
        "predicted_labels = [labels[value] for value in values]\n",
        "\n",
        "f1 = f1_score(ground_truth_labels, predicted_labels, average='weighted')\n",
        "print(\"F1 score:\",f1)"
      ],
      "metadata": {
        "colab": {
          "base_uri": "https://localhost:8080/"
        },
        "id": "XzLEYZ9Q37Ko",
        "outputId": "5ed6fdb5-1a55-41c5-b67a-7cf86033f8a2"
      },
      "execution_count": null,
      "outputs": [
        {
          "output_type": "stream",
          "name": "stdout",
          "text": [
            "F1 score: 0.8996386993175431\n"
          ]
        }
      ]
    },
    {
      "cell_type": "markdown",
      "source": [
        "### **Spanish Prompt Spanish test set**\n",
        "\n",
        "Prompt used: \"Actuar como analizador de sentimientos. Para cada uno de los siguientes 50 tweets, analice el sentimiento. El sentimiento sólo puede ser positivo o negativo. Mencione solo el sentimiento de cada tweet (Positivo o Negativo). Recuerda que son 50 tweets:\"\n",
        "\n",
        "The prompt was translated using google translate.\n",
        "\n",
        "A slight increase in performance compared to the english prompt."
      ],
      "metadata": {
        "id": "42j4EZUs3npq"
      }
    },
    {
      "cell_type": "code",
      "source": [
        "from sklearn.metrics import f1_score\n",
        "\n",
        "labels = {\"Negativo\": 0, \"Positivo\": 2}\n",
        "\n",
        "values = [\n",
        "    \"Positivo\", \"Negativo\", \"Negativo\", \"Negativo\", \"Negativo\",\n",
        "    \"Negativo\", \"Negativo\", \"Negativo\", \"Negativo\", \"Negativo\",\n",
        "    \"Negativo\", \"Negativo\", \"Negativo\", \"Positivo\", \"Negativo\",\n",
        "    \"Negativo\", \"Negativo\", \"Negativo\", \"Negativo\", \"Negativo\",\n",
        "    \"Negativo\", \"Negativo\", \"Negativo\", \"Negativo\", \"Positivo\",\n",
        "    \"Positivo\", \"Positivo\", \"Positivo\", \"Positivo\", \"Positivo\",\n",
        "    \"Positivo\", \"Positivo\", \"Positivo\", \"Positivo\", \"Positivo\",\n",
        "    \"Positivo\", \"Positivo\", \"Positivo\", \"Positivo\", \"Positivo\",\n",
        "    \"Positivo\", \"Positivo\", \"Positivo\", \"Positivo\", \"Positivo\",\n",
        "    \"Negativo\", \"Positivo\", \"Positivo\", \"Positivo\", \"Positivo\"\n",
        "]\n",
        "\n",
        "predicted_labels = [labels[value] for value in values]\n",
        "\n",
        "f1 = f1_score(ground_truth_labels, predicted_labels, average='weighted')\n",
        "print(\"F1 score:\",f1)"
      ],
      "metadata": {
        "colab": {
          "base_uri": "https://localhost:8080/"
        },
        "id": "kfhnucnp37-X",
        "outputId": "4f28d96d-5611-4e78-b7ce-297a0084a001"
      },
      "execution_count": null,
      "outputs": [
        {
          "output_type": "stream",
          "name": "stdout",
          "text": [
            "F1 score: 0.9198717948717947\n"
          ]
        }
      ]
    },
    {
      "cell_type": "markdown",
      "source": [
        "## **Graph plot and analysis**\n",
        "**German**: German prompt performed better than English prompt in ChatGPT. Both around the same in Gemini.\n",
        "\n",
        "**French**: French prompt performed better than English prompt in ChatGPT. Both around the same in Gemini.\n",
        "\n",
        "**Hindi**: Hindi prompt performed better than English prompt in ChatGPT. Denied request in Gemini.\n",
        "\n",
        "**Italian**: English prompt performed slightly better than Italian prompt in ChatGPT. Denied request in Gemini.\n",
        "\n",
        "**Portuguese**: English prompt performed slightly better for both models.\n",
        "\n",
        "**Spanish**: English prompt performed better than Spanish prompt in ChatGPT. Spanish prompt performed slightly better for Gemini."
      ],
      "metadata": {
        "id": "WeXOu4W4kFEK"
      }
    },
    {
      "cell_type": "code",
      "source": [
        "import numpy as np\n",
        "import matplotlib.pyplot as plt\n",
        "\n",
        "prompt_styles = [\"En, De\", \"De, De\",\n",
        "                 \"En, Fr\", \"Fr, Fr\",\n",
        "                 \"En, Hi\", \"Hi, Hi\",\n",
        "                 \"En, It\", \"It, It\",\n",
        "                 \"En, Por\", \"Por, Por\",\n",
        "                 \"En, Es\", \"Es, Es\"]\n",
        "chatgpt_f1_scores = [0.88, 0.96, 0.718, 0.759, 0.742, 0.819, 0.899, 0.879, 0.878,\n",
        "                     0.857, 1.0, 0.838]\n",
        "gemini_f1_scores = [0.777, 0.791, 0.698, 0.691, 0, 0, 0, 0, 0.919, 0.878, 0.899,\n",
        "                    0.919]\n",
        "\n",
        "x = np.arange(len(prompt_styles))\n",
        "width = 0.25\n",
        "\n",
        "fig, ax = plt.subplots(figsize=(14, 6))\n",
        "\n",
        "ax.bar(x - width/2, chatgpt_f1_scores, width, label='ChatGPT', color='blue')\n",
        "ax.bar(x + width/2, gemini_f1_scores, width, label='Gemini', color='red')\n",
        "\n",
        "ax.set_ylabel('F1 Score')\n",
        "ax.set_xlabel('Prompt Language, Tweets Language')\n",
        "ax.set_title('F1 Scores by Model')\n",
        "ax.set_xticks(x)\n",
        "ax.set_xticklabels(prompt_styles)\n",
        "ax.legend()\n",
        "\n",
        "plt.tight_layout()\n",
        "plt.show()"
      ],
      "metadata": {
        "colab": {
          "base_uri": "https://localhost:8080/",
          "height": 597
        },
        "id": "EsOdMDyXja0X",
        "outputId": "7e71ca0a-d75f-4f67-bb4d-6dfda15cd894"
      },
      "execution_count": null,
      "outputs": [
        {
          "output_type": "display_data",
          "data": {
            "text/plain": [
              "<Figure size 1400x600 with 1 Axes>"
            ],
            "image/png": "[encoded data removed]"
          },
          "metadata": {}
        }
      ]
    },
    {
      "cell_type": "markdown",
      "source": [
        "# **c) Few-shot in-context learning**"
      ],
      "metadata": {
        "id": "7dEeSJa-N-_L"
      }
    },
    {
      "cell_type": "code",
      "source": [
        "import json\n",
        "\n",
        "labels = [\"negative\", \"neutral\", \"positive\"]\n",
        "label_nums = [0, 1, 2]\n",
        "\n",
        "k_test = 25\n",
        "k_train = 4\n",
        "\n",
        "# Load train and test data\n",
        "with open(\"/content/drive/MyDrive/Colab Notebooks/test.jsonl\", \"r\") as test_file, open(\"/content/drive/MyDrive/Colab Notebooks/train.jsonl\", \"r\") as train_file:\n",
        "    test_data = [json.loads(line) for line in test_file]\n",
        "    train_data = [json.loads(line) for line in train_file]\n",
        "\n",
        "exemplars_test = {label: [] for label in label_nums}\n",
        "exemplars_train = {label: [] for label in label_nums}\n",
        "ground_truth_labels = []\n",
        "\n",
        "# Populate exemplars with the first k values of each class\n",
        "for entry in test_data:\n",
        "    label = int(entry[\"label\"])\n",
        "    if label!=1 and len(exemplars_test[label]) < k_test:\n",
        "        exemplars_test[label].append(entry[\"text\"])\n",
        "        ground_truth_labels.append(label)\n",
        "\n",
        "for entry in train_data:\n",
        "    label = int(entry[\"label\"])\n",
        "    if label!=1 and len(exemplars_train[label]) < k_train:\n",
        "        exemplars_train[label].append(entry[\"text\"] + \" Sentiment is \" + labels[label])\n",
        "\n",
        "ground_truth_labels.sort()\n",
        "\n",
        "print(\"Test Set\\n\")\n",
        "index_counter = 1\n",
        "\n",
        "for label, values in exemplars_test.items():\n",
        "    for value in values:\n",
        "        print(f\"{index_counter}) {value}\")\n",
        "        index_counter += 1\n",
        "\n",
        "print(\"\\nTrain Set\\n\")\n",
        "index_counter = 1\n",
        "\n",
        "for label, values in exemplars_train.items():\n",
        "    for value in values:\n",
        "        print(f\"{index_counter}) {value}\")\n",
        "        index_counter += 1"
      ],
      "metadata": {
        "id": "Qk58Rz70OM4U"
      },
      "execution_count": null,
      "outputs": []
    },
    {
      "cell_type": "markdown",
      "source": [
        "## **ChatGPT**\n",
        "**Prompt used**: \"Act as a sentiment analyzer. Consider the following examples: {train set examples}. Now analyze the sentiment of the 50 tweets provided below. The sentiment can only be either positive or negative. Mention only the sentiment of each tweet in the provided order.\"\n",
        "\n",
        "There is a considerable decrease in performance when I provided the model with examples. This behaviour seems consistent with the BLOOM models where I observed a similar decrease in performance when I provided examples to the model.\n",
        "\n",
        "This decrease in performance could also be random chance or the prompt used might not have been effective and might have confused the model."
      ],
      "metadata": {
        "id": "sq2aLtWiQwOy"
      }
    },
    {
      "cell_type": "code",
      "source": [
        "from sklearn.metrics import f1_score\n",
        "\n",
        "labels = {\"Negative\": 0, \"Positive\": 2}\n",
        "\n",
        "values = [\"Negative\", \"Negative\", \"Negative\", \"Negative\", \"Positive\",\n",
        "          \"Positive\", \"Negative\", \"Negative\", \"Negative\", \"Negative\",\n",
        "          \"Negative\", \"Negative\", \"Negative\", \"Negative\", \"Negative\",\n",
        "          \"Negative\", \"Negative\", \"Negative\", \"Negative\", \"Negative\",\n",
        "          \"Negative\", \"Positive\", \"Negative\", \"Negative\", \"Positive\",\n",
        "          \"Positive\", \"Positive\", \"Positive\", \"Positive\", \"Negative\",\n",
        "          \"Negative\", \"Positive\", \"Positive\", \"Positive\", \"Negative\",\n",
        "          \"Positive\", \"Positive\", \"Negative\", \"Positive\", \"Positive\",\n",
        "          \"Negative\", \"Negative\", \"Negative\", \"Positive\", \"Positive\",\n",
        "          \"Positive\", \"Negative\", \"Positive\", \"Positive\", \"Positive\"]\n",
        "predicted_labels = [labels[value] for value in values]\n",
        "\n",
        "f1 = f1_score(ground_truth_labels, predicted_labels, average='weighted')\n",
        "print(\"F1 score:\",f1)"
      ],
      "metadata": {
        "colab": {
          "base_uri": "https://localhost:8080/"
        },
        "id": "0X9ZZrT6QabP",
        "outputId": "fb87e397-a9bc-4d41-db7e-6f6151f8b944"
      },
      "execution_count": null,
      "outputs": [
        {
          "output_type": "stream",
          "name": "stdout",
          "text": [
            "F1 score: 0.7584541062801933\n"
          ]
        }
      ]
    },
    {
      "cell_type": "markdown",
      "source": [
        "## **Gemini**\n",
        "**Prompt used**: \"Act as a sentiment analyzer. Consider the following examples: {train set examples}. Now analyze the sentiment of the 50 tweets provided below. The sentiment can only be either positive or negative. Mention only the sentiment of each tweet in the provided order.\"\n",
        "\n",
        "The interesting thing about Gemini's response is it mentioned the tweets and gave an explaination as to why it thought the sentiment was positive or negative even though I never asked the model to explain.\n",
        "\n",
        "Gemini seems to shine with few shot prompting. It performs considerably better than ChatGPT and it also performed better than itself when no examples were given which was to be expected."
      ],
      "metadata": {
        "id": "diV_KCTESD8M"
      }
    },
    {
      "cell_type": "code",
      "source": [
        "from sklearn.metrics import f1_score\n",
        "\n",
        "labels = {\"Negative\": 0, \"Positive\": 2}\n",
        "\n",
        "values = [\n",
        "    \"Negative\", \"Negative\", \"Negative\", \"Negative\", \"Negative\",\n",
        "    \"Negative\", \"Negative\", \"Negative\", \"Negative\", \"Negative\",\n",
        "    \"Negative\", \"Negative\", \"Negative\", \"Negative\", \"Negative\",\n",
        "    \"Negative\", \"Negative\", \"Negative\", \"Negative\", \"Negative\",\n",
        "    \"Negative\", \"Negative\", \"Negative\", \"Positive\", \"Positive\",\n",
        "    \"Positive\", \"Positive\", \"Positive\", \"Positive\", \"Positive\",\n",
        "    \"Positive\", \"Positive\", \"Negative\", \"Negative\", \"Positive\",\n",
        "    \"Positive\", \"Positive\", \"Positive\", \"Positive\", \"Positive\",\n",
        "    \"Positive\", \"Positive\", \"Positive\", \"Positive\", \"Positive\",\n",
        "    \"Positive\", \"Positive\", \"Positive\", \"Positive\", \"Positive\"\n",
        "]\n",
        "\n",
        "predicted_labels = [labels[value] for value in values]\n",
        "\n",
        "f1 = f1_score(ground_truth_labels, predicted_labels, average='weighted')\n",
        "print(\"F1 score:\",f1)"
      ],
      "metadata": {
        "colab": {
          "base_uri": "https://localhost:8080/"
        },
        "id": "pFLfMflkSGOu",
        "outputId": "0d3d5658-8100-45b8-f639-51ce4d907751"
      },
      "execution_count": null,
      "outputs": [
        {
          "output_type": "stream",
          "name": "stdout",
          "text": [
            "F1 score: 0.92\n"
          ]
        }
      ]
    },
    {
      "cell_type": "markdown",
      "source": [
        "## **Graph plot**"
      ],
      "metadata": {
        "id": "qobYFg5yaw_j"
      }
    },
    {
      "cell_type": "code",
      "source": [
        "import numpy as np\n",
        "import matplotlib.pyplot as plt\n",
        "\n",
        "models = [\"ChatGPT\", \"Gemini\"]\n",
        "f1_scores = [0.758, 0.92]\n",
        "colors = ['blue', 'red']\n",
        "\n",
        "x = np.arange(len(models))\n",
        "\n",
        "fig, ax = plt.subplots(figsize=(10, 6))\n",
        "\n",
        "ax.bar(x, f1_scores, width, color=colors)\n",
        "\n",
        "ax.set_ylabel('F1 Score')\n",
        "ax.set_title('F1 Scores by Model')\n",
        "ax.set_xticks(x)\n",
        "ax.set_xticklabels(models)\n",
        "ax.legend()\n",
        "\n",
        "plt.tight_layout()\n",
        "plt.show()"
      ],
      "metadata": {
        "colab": {
          "base_uri": "https://localhost:8080/",
          "height": 645
        },
        "id": "Uqo_Q0gHbgv_",
        "outputId": "07a0232a-6221-4c0f-ffdf-644a453687f2"
      },
      "execution_count": null,
      "outputs": [
        {
          "output_type": "stream",
          "name": "stderr",
          "text": [
            "WARNING:matplotlib.legend:No artists with labels found to put in legend.  Note that artists whose label start with an underscore are ignored when legend() is called with no argument.\n"
          ]
        },
        {
          "output_type": "display_data",
          "data": {
            "text/plain": [
              "<Figure size 1000x600 with 1 Axes>"
            ],
            "image/png": "[encoded data removed]"
          },
          "metadata": {}
        }
      ]
    },
    {
      "cell_type": "markdown",
      "source": [
        "# d) **Explainable AI**"
      ],
      "metadata": {
        "id": "8x2IHhT_c7ZT"
      }
    },
    {
      "cell_type": "code",
      "source": [
        "import json\n",
        "\n",
        "labels = [\"negative\", \"neutral\", \"positive\"]\n",
        "label_nums = [0, 1, 2]\n",
        "\n",
        "k = 10\n",
        "\n",
        "# Load train and test data\n",
        "with open(\"/content/drive/MyDrive/Colab Notebooks/test.jsonl\", \"r\") as test_file:\n",
        "    test_data = [json.loads(line) for line in test_file]\n",
        "\n",
        "exemplars = {label: [] for label in label_nums}\n",
        "ground_truth_labels = []\n",
        "\n",
        "# Populate exemplars with the first k values of each class\n",
        "for entry in test_data:\n",
        "    label = int(entry[\"label\"])\n",
        "    if label!=1 and len(exemplars[label]) < k:\n",
        "        exemplars[label].append(entry[\"text\"])\n",
        "        ground_truth_labels.append(label)\n",
        "\n",
        "ground_truth_labels.sort()\n",
        "\n",
        "index_counter = 1\n",
        "\n",
        "for label, values in exemplars.items():\n",
        "    for value in values:\n",
        "        print(f\"{index_counter}) {value}\")\n",
        "        index_counter += 1"
      ],
      "metadata": {
        "id": "YpmHhLtwyrfb"
      },
      "execution_count": null,
      "outputs": []
    },
    {
      "cell_type": "markdown",
      "source": [
        "## **ChatGPT**\n",
        "\n",
        "## **Prompt used**:\n",
        "Act as a sentiment analyzer. Analyze the sentiment of all the provided tweets. The sentiment can either be positive or negative. Also explain the reasoning behind the classification\n",
        "by highlighting specific words or phrases that influence the sentiment prediction.\n",
        "\n",
        "## **ChatGPT response**:\n",
        "\n",
        "Based on the provided tweets, here are the sentiment analyses:\n",
        "\n",
        "Sentiment: Negative\n",
        "Reasoning: Words like \"pointless\" and \"infuriating\" convey a negative sentiment towards the conversation about vegetarianism. Additionally, the hashtag #caveman implies frustration or backwardness.\n",
        "\n",
        "Sentiment: Negative\n",
        "Reasoning: Being blocked by someone (Flynn) and the use of \"isn't too pleased\" indicate a negative sentiment in this tweet.\n",
        "\n",
        "Sentiment: Negative\n",
        "Reasoning: The tweet seems critical and implies frustration or dissatisfaction with the situation described.\n",
        "\n",
        "Sentiment: Negative\n",
        "Reasoning: The tweet highlights a situation where Israel deems a comatose Gaza man a security threat, which suggests a negative view of Israel's actions in Gaza.\n",
        "\n",
        "Sentiment: Negative\n",
        "Reasoning: The tweet indicates impending military action in Mosul, suggesting a tense or negative situation.\n",
        "\n",
        "Sentiment: Negative\n",
        "Reasoning: The tweet expresses a negative sentiment towards Trump, using hashtags like #rejecttrump and #notmypresident, along with supporting movements like #blacklivesmatter.\n",
        "\n",
        "Sentiment: Negative\n",
        "Reasoning: The tweet opposes fracking and criticizes Cuadrilla, implying a negative sentiment towards their actions.\n",
        "\n",
        "Sentiment: Negative\n",
        "Reasoning: The tweet suggests concern about the future and implies a negative outlook on the world's dependence on fossil fuels.\n",
        "\n",
        "Sentiment: Negative\n",
        "Reasoning: The tweet criticizes society for being publicly distasteful, indicating a negative sentiment towards societal behavior.\n",
        "\n",
        "Sentiment: Negative\n",
        "Reasoning: The tweet expresses disapproval or incredulity towards Ben Carson's appointment for Housing & Urban Development.\n",
        "\n",
        "Sentiment: Positive\n",
        "Reasoning: The tweet compliments Vice President Pence, indicating a positive sentiment towards him.\n",
        "\n",
        "Sentiment: Positive\n",
        "Reasoning: The tweet expresses admiration for Pope Francis, indicating a positive sentiment towards him.\n",
        "\n",
        "Sentiment: Neutral\n",
        "Reasoning: The tweet provides information about Samsung's plans, without conveying a clear positive or negative sentiment.\n",
        "\n",
        "Sentiment: Positive\n",
        "Reasoning: The tweet praises the TV show Westworld, indicating a positive sentiment towards it.\n",
        "\n",
        "Sentiment: Positive\n",
        "Reasoning: The tweet expresses love for Chick-fil-A, indicating a positive sentiment towards the restaurant.\n",
        "\n",
        "Sentiment: Neutral\n",
        "Reasoning: The tweet seems informational without conveying a clear positive or negative sentiment.\n",
        "\n",
        "Sentiment: Positive\n",
        "Reasoning: The tweet expresses pride and support for the Trump transition team, indicating a positive sentiment towards them.\n",
        "\n",
        "Sentiment: Positive\n",
        "Reasoning: The tweet expresses gratitude or appreciation for working with someone named TK, indicating a positive sentiment towards them.\n",
        "\n",
        "Sentiment: Positive\n",
        "Reasoning: The tweet expresses approval or agreement with Microsoft's decision, indicating a positive sentiment towards it.\n",
        "\n",
        "Sentiment: Positive\n",
        "Reasoning: The tweet expresses enjoyment of the TV show Scream Queens, indicating a positive sentiment towards it.\n",
        "\n",
        "## **Analysis**\n",
        "I think ChatGPT did an amaxing job predicting the sentiment of each of the tweet. It did make a few neutral predictions even though I mentioned that the sentiment can be either positive or negative but the netral sentiment predictions felt accurate.\n",
        "\n",
        "The explainations it provided for each tweets also felt very accurate.\n",
        "\n",
        "So far for me ChatGPT has only performed poorly with few shot prompting but I feel that getting it to explain the reasoning behind each prediction made the model perform even better. The model predicted almost all the sentiments accurately with a few neutral sentiments."
      ],
      "metadata": {
        "id": "lmz2HGcx2MMD"
      }
    },
    {
      "cell_type": "markdown",
      "source": [
        "## **Gemini**\n",
        "\n",
        "## **Prompt used**:\n",
        "Act as a sentiment analyzer. Analyze the sentiment of all the provided tweets. The sentiment can either be positive or negative. Also explain the reasoning behind the classification by highlighting specific words or phrases that influence the sentiment prediction.\n",
        "\n",
        "## **Gemini response**:\n",
        "\n",
        "Sentiment Analysis of Tweets:\n",
        "\n",
        "**1. Negative**\n",
        "\n",
        "* Reasoning: Words like \"pointless,\" \"infuriating,\" and \"caveman\" convey frustration and negativity towards the conversation.\n",
        "\n",
        "**2. Negative**\n",
        "\n",
        "* Reasoning: \"Blocked\" and \"not pleased\" indicate a negative interaction between the users.\n",
        "\n",
        "**3. Negative**\n",
        "\n",
        "* Reasoning: The tweet criticizes someone for \"crying\" and implies negativity towards \"middle America.\"\n",
        "\n",
        "**4. Negative**\n",
        "\n",
        "* Reasoning: Phrases like \"comatose,\" \"needs treatment,\" and \"security threat\" highlight a concerning situation.\n",
        "* Hashtag #Palestine suggests a potential conflict.\n",
        "\n",
        "**5. Neutral**\n",
        "\n",
        "* Reasoning: While the tweet mentions military action, it lacks emotional words and focuses on factual information.\n",
        "\n",
        "**6. Negative**\n",
        "\n",
        "* Reasoning: Hashtags like #rejecttrump and #nevertrump express disapproval towards Trump.\n",
        "\n",
        "**7. Negative**\n",
        "\n",
        "* Reasoning: Words like \"fracking,\" \"persecuting,\" \"BankruptCuadrilla,\" and #ECOCIDE portray a negative view of a certain practice.\n",
        "\n",
        "**8. Negative**\n",
        "\n",
        "* Reasoning: \"Crisis\" and \"run out\" suggest a pessimistic outlook on the future.\n",
        "\n",
        "**9. Negative**\n",
        "\n",
        "* Reasoning: \"Casually comfortable about being publicly distasteful\" expresses disapproval of societal behavior. #deplorables is a negative term.\n",
        "\n",
        "**10. Negative**\n",
        "\n",
        "* Reasoning: Emojis  \"\" and \"\" indicate disappointment with Ben Carson's appointment.\n",
        "\n",
        "**11. Positive**\n",
        "\n",
        "* Reasoning: Phrases like \"stand up guy\" and \"Gentleman\" express positive qualities.\n",
        "\n",
        "**12. Positive**\n",
        "\n",
        "* Reasoning: The speaker feels comforted by Pope Francis and desires a hug, suggesting positive emotions.\n",
        "\n",
        "**13. Neutral**\n",
        "\n",
        "* Reasoning: This tweet conveys factual information about a software update.\n",
        "\n",
        "**14. Positive**\n",
        "\n",
        "* Reasoning: Words like \"brilliant,\" \"good,\" and \"storytelling\" express a positive evaluation of Westworld.\n",
        "\n",
        "**15. Positive**\n",
        "\n",
        "* Reasoning: Emoji \"\" and the name \"Chick-fil-A\" suggest positive feelings about fast food.\n",
        "\n",
        "**16. Neutral**\n",
        "\n",
        "* Reasoning: This tweet announces a news segment but doesn't express positive or negative sentiment.\n",
        "\n",
        "**17. Positive**\n",
        "\n",
        "* Reasoning: Hashtags like #TeamTrump and #MakeAmericaGreatAgain indicate support for Trump's team.\n",
        "\n",
        "**18. Positive**\n",
        "\n",
        "* Reasoning: \"Lucky\" and \"get to work with\" imply positive feelings about working with someone.\n",
        "\n",
        "**19. Positive**\n",
        "\n",
        "* Reasoning: \"Big deal\" and \"smart move\" suggest a positive assessment of Microsoft's action.\n",
        "\n",
        "**20. Positive**\n",
        "\n",
        "* Reasoning: All caps \"SO SO GOOD\" expresses strong positive feelings about the show.\n",
        "\n",
        "\n",
        "## **Analysis**\n",
        "Similar to ChatGPT I think Gemini also did a good job predicting the sentiments of the tweets provided. I think when the model has to explain it's decision it does much better at predicting. But there are insitances like the following reasoning given by gemini \"Reasoning: While the tweet mentions military action, it lacks emotional words and focuses on factual information.\", where the annotator might argue that a military action should make this a negative sentiment tweet but gemini thinks this is just factual information. This is completely subjective and the sentiment will differ with different viewpoints and it is something we need to consider with tasks like sentiment analysis."
      ],
      "metadata": {
        "id": "_UhFoTIT3xYv"
      }
    }
  ]
}